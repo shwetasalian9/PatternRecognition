{
  "cells": [
    {
      "cell_type": "markdown",
      "metadata": {
        "id": "Qj1Rm_YLX1Gp"
      },
      "source": [
        "## Learning Goals\n",
        "In this notebook, we will explore ways to optimize the loss function of a multilayer perceptor (MLP) by tuning the model hyperparameters. We will also explore the use of cross-validation as a technique for checking potential values for these hyperparameters.\n",
        "\n",
        "By the end of this notebook, you should:\n",
        "- Be familiar with the use of `sklearn`'s `optimize` function.\n",
        "- Be able to identify the hyperparameters that go into the training of a MLP.\n",
        "- Be familiar with the implementation in `keras` of various optimization techniques.\n",
        "- Know how to use callbacks\n",
        "- Apply cross-validation to check for multiple values of hyperparameters."
      ]
    },
    {
      "cell_type": "code",
      "execution_count": 1,
      "metadata": {
        "colab": {
          "base_uri": "https://localhost:8080/"
        },
        "id": "xnk6yHXyZa-3",
        "outputId": "b67e1aae-71f2-4ede-defe-065b8d071465"
      },
      "outputs": [
        {
          "name": "stdout",
          "output_type": "stream",
          "text": [
            "Requirement already satisfied: keras==2.12.0 in /usr/local/lib/python3.10/dist-packages (2.12.0)\n"
          ]
        }
      ],
      "source": [
        "!pip install keras==2.12.0"
      ]
    },
    {
      "cell_type": "code",
      "execution_count": 2,
      "metadata": {
        "id": "eyVNK7B_X1Gp"
      },
      "outputs": [],
      "source": [
        "import matplotlib.pyplot as plt\n",
        "import numpy as np\n",
        "from scipy.optimize import minimize\n",
        "from keras.wrappers.scikit_learn import KerasClassifier\n",
        "\n",
        "%matplotlib inline"
      ]
    },
    {
      "cell_type": "markdown",
      "metadata": {
        "id": "oboBo0UKX1Gq"
      },
      "source": [
        "# **Optimization in neural networks**\n",
        "\n",
        "In general: **Learning Representation --> Objective function --> Optimization algorithm**\n",
        "\n",
        "A neural network can be defined as a framework that combines inputs and tries to guess the output. If we are lucky enough to have some results, called \"the ground truth\", to compare the outputs produced by the network, we can calculate the **error**. So the network guesses, calculates some error function, guesses again, trying to minimize this error, guesses again, until the error does not go down any more. This is optimization.  \n",
        "\n",
        "In neural networks the most common used optimization algorithms, are flavors of **GD (gradient descent)**. The *objective function* used in gradient descent is the *loss function* which we want to minimize ."
      ]
    },
    {
      "cell_type": "markdown",
      "metadata": {
        "id": "ltnOhfyDX1Gq"
      },
      "source": [
        "### A `keras` Refresher"
      ]
    },
    {
      "cell_type": "markdown",
      "metadata": {
        "id": "sGD6AgiuX1Gq"
      },
      "source": [
        "`Keras` is a Python library for deep learning that can run on top of both Theano or\n",
        "TensorFlow, two powerful Python libraries for fast numerical computing created and released by Facebook and Google, respectevely.\n",
        "\n",
        "Keras was developed to make developing deep learning models as fast and easy as\n",
        "possible for research and practical applications. It runs on Python 2.7 or 3.5 and can seamlessly execute on GPUs and CPUs.\n",
        "\n",
        "Keras is built on the idea of a model. At its core we have a sequence of layers called\n",
        "the `Sequential` model which is a linear stack of layers. Keras also provides the `functional API`, a way to define complex models, such as multi-output models, directed acyclic graphs, or models with shared layers.\n",
        "\n",
        "We can summarize the construction of deep learning models in Keras using the Sequential model as follows:\n",
        "1. **Define your model**: create a `Sequential` model and add layers.\n",
        "2. **Compile your model**: specify loss function and optimizers and call the `.compile()` function.\n",
        "3. **Fit your model**: train the model on data by calling the `.fit()` function.\n",
        "4. **Make predictions**: use the model to generate predictions on new data by calling functions such as `.evaluate()` or `.predict()`."
      ]
    },
    {
      "cell_type": "markdown",
      "metadata": {
        "id": "5vLF4uoCX1Gq"
      },
      "source": [
        "### Callbacks: taking a peek into our model while it's training\n",
        "\n",
        "You can look at what is happening in various stages of your model by using `callbacks`. A callback is a set of functions to be applied at given stages of the training procedure. You can use callbacks to get a view on internal states and statistics of the model during training. You can pass a list of callbacks (as the keyword argument callbacks) to the `.fit()` method of the Sequential or Model classes. The relevant methods of the callbacks will then be called at each stage of the training.\n",
        "\n",
        "- A callback function you are already familiar with is `keras.callbacks.History()`. This is automatically included in `.fit()`.\n",
        "\n",
        "\n",
        "- Another very useful one is `keras.callbacks.ModelCheckpoint` which saves the model with its weights at a certain point in the training. This can prove useful if your model is running for a long time and a system failure happens. Not all is lost then. It's a good practice to save the model weights only when an improvement is observed as measured by the `acc`, for example.\n",
        "\n",
        "\n",
        "- `keras.callbacks.EarlyStopping` stops the training when a monitored quantity has stopped improving.\n",
        "\n",
        "\n",
        "- `keras.callbacks.LearningRateScheduler` will change the learning rate during training.\n",
        "\n",
        "\n",
        "We will apply some callbacks later.\n",
        "\n",
        "For full documentation on `callbacks` see https://keras.io/callbacks/"
      ]
    },
    {
      "cell_type": "markdown",
      "metadata": {
        "id": "_vsT0ecuX1Gq"
      },
      "source": [
        "### What are the steps to optimizing our network?"
      ]
    },
    {
      "cell_type": "code",
      "execution_count": 3,
      "metadata": {
        "id": "3o_w9CHkX1Gq"
      },
      "outputs": [],
      "source": [
        "import tensorflow as tf\n",
        "import keras\n",
        "from keras import layers\n",
        "from keras import models\n",
        "from keras import utils\n",
        "from keras.layers import Dense\n",
        "from keras.models import Sequential\n",
        "from keras.layers import Flatten\n",
        "from keras.layers import Dropout\n",
        "from keras.layers import Activation\n",
        "from keras.regularizers import l2\n",
        "from keras.optimizers import SGD\n",
        "from keras.optimizers import RMSprop\n",
        "from keras import datasets\n",
        "\n",
        "from keras.callbacks import LearningRateScheduler\n",
        "from keras.callbacks import History\n",
        "\n",
        "from keras import losses\n",
        "from sklearn.utils import shuffle\n"
      ]
    },
    {
      "cell_type": "code",
      "execution_count": 4,
      "metadata": {
        "id": "cSpmCfwLX1Gq"
      },
      "outputs": [],
      "source": [
        "# fix random seed for reproducibility\n",
        "np.random.seed(5)"
      ]
    },
    {
      "cell_type": "markdown",
      "metadata": {
        "id": "QTVo4QJ4X1Gq"
      },
      "source": [
        "### Step 1 -  Deciding on the network topology (not really considered optimization but is obviously very important)"
      ]
    },
    {
      "cell_type": "markdown",
      "metadata": {
        "id": "lZfaCT8eX1Gq"
      },
      "source": [
        "We will use the MNIST dataset which consists of grayscale images of handwritten digits (0-9) whose dimension is 28x28 pixels. Each pixel is 8 bits so its value ranges from 0 to 255."
      ]
    },
    {
      "cell_type": "code",
      "execution_count": 6,
      "metadata": {
        "colab": {
          "base_uri": "https://localhost:8080/"
        },
        "id": "MbTtzTCRX1Gq",
        "outputId": "c2f0cbfb-04e1-4cc5-ab71-45e72d30e565"
      },
      "outputs": [
        {
          "data": {
            "text/plain": [
              "((60000, 28, 28), (60000,))"
            ]
          },
          "execution_count": 6,
          "metadata": {},
          "output_type": "execute_result"
        }
      ],
      "source": [
        "mnist = tf.keras.datasets.mnist\n",
        "# mnist = keras.datasets.mnist\n",
        "(x_train, y_train),(x_test, y_test) = mnist.load_data()\n",
        "x_train.shape, y_train.shape"
      ]
    },
    {
      "cell_type": "markdown",
      "metadata": {
        "id": "AlJnM4LpX1Gq"
      },
      "source": [
        "Each label is a number between 0 and 9"
      ]
    },
    {
      "cell_type": "code",
      "execution_count": 7,
      "metadata": {
        "colab": {
          "base_uri": "https://localhost:8080/"
        },
        "id": "kb6kRlOdX1Gq",
        "outputId": "cdd6852f-c8f2-45b6-c973-171a8ef5b11b"
      },
      "outputs": [
        {
          "name": "stdout",
          "output_type": "stream",
          "text": [
            "[5 0 4 ... 5 6 8]\n"
          ]
        }
      ],
      "source": [
        "print(y_train)"
      ]
    },
    {
      "cell_type": "markdown",
      "metadata": {
        "id": "yhus-rjLX1Gr"
      },
      "source": [
        "Let's look at some 10 of the images"
      ]
    },
    {
      "cell_type": "code",
      "execution_count": 8,
      "metadata": {
        "colab": {
          "base_uri": "https://localhost:8080/",
          "height": 348
        },
        "id": "lMYGpqoLX1Gr",
        "outputId": "51ebfd8f-9363-416f-9d90-49fe34c273e5",
        "scrolled": true
      },
      "outputs": [
        {
          "data": {
            "image/png": "[encoded data removed]",
            "text/plain": [
              "<Figure size 1000x1000 with 10 Axes>"
            ]
          },
          "metadata": {},
          "output_type": "display_data"
        }
      ],
      "source": [
        "plt.figure(figsize=(10,10))\n",
        "for i in range(10):\n",
        "    plt.subplot(5,5,i+1)\n",
        "    plt.xticks([])\n",
        "    plt.yticks([])\n",
        "    plt.grid(False)\n",
        "    plt.imshow(x_train[i], cmap=plt.cm.binary)\n",
        "    plt.xlabel(y_train[i])"
      ]
    },
    {
      "cell_type": "code",
      "execution_count": 9,
      "metadata": {
        "colab": {
          "base_uri": "https://localhost:8080/"
        },
        "id": "uo7SyvmAX1Gr",
        "outputId": "30fc704d-05f6-468f-b957-504e07e698fa",
        "scrolled": false
      },
      "outputs": [
        {
          "data": {
            "text/plain": [
              "array([[ 11, 198, 231,  41,   0],\n",
              "       [ 82, 252, 204,   0,   0],\n",
              "       [253, 253, 141,   0,   0],\n",
              "       [252, 220,  36,   0,   0],\n",
              "       [252,  96,   0,   0,   0]], dtype=uint8)"
            ]
          },
          "execution_count": 9,
          "metadata": {},
          "output_type": "execute_result"
        }
      ],
      "source": [
        "x_train[45].shape\n",
        "x_train[45, 15:20, 15:20]"
      ]
    },
    {
      "cell_type": "code",
      "execution_count": 10,
      "metadata": {
        "colab": {
          "base_uri": "https://localhost:8080/"
        },
        "id": "PpbOt_biX1Gr",
        "outputId": "96890b45-afbc-49c8-907a-15c1b804dd92"
      },
      "outputs": [
        {
          "name": "stdout",
          "output_type": "stream",
          "text": [
            "We have 60000 train samples\n",
            "We have 10000 test samples\n"
          ]
        }
      ],
      "source": [
        "print(f'We have {x_train.shape[0]} train samples')\n",
        "print(f'We have {x_test.shape[0]} test samples')"
      ]
    },
    {
      "cell_type": "markdown",
      "metadata": {
        "id": "D_ErPWi9X1Gr"
      },
      "source": [
        "#### Preprocessing the data\n",
        "\n",
        "To run our NN we need to pre-process the data\n",
        "\n",
        "* First we need to make the 2D image arrays into 1D (flatten them). We can either perform this by using array reshaping with `numpy.reshape()` or the `keras`' method for this: a layer called `tf.keras.layers.Flatten` which transforms the format of the images from a 2d-array (of 28 by 28 pixels), to a 1D-array of 28 * 28 = 784 pixels.\n",
        "\n",
        "* Then we need to normalize the pixel values (give them values between 0 and 1) using the following transformation:\n",
        "\n",
        "\\begin{align}\n",
        "x := \\dfrac{x - x_{min}}{x_{max} - x_{min}}\n",
        "\\textrm{}\n",
        "\\end{align}\n",
        "\n",
        "In our case $x_{min} = 0$ and $x_{max} = 255$ so the formula becomes simply $x := {x}/255$"
      ]
    },
    {
      "cell_type": "code",
      "execution_count": 11,
      "metadata": {
        "code_folding": [],
        "id": "rFgDBrYyX1Gr"
      },
      "outputs": [],
      "source": [
        "# normalize the data\n",
        "x_train, x_test = x_train / 255.0, x_test / 255.0"
      ]
    },
    {
      "cell_type": "code",
      "execution_count": 12,
      "metadata": {
        "id": "_HLpFG3rX1Gr"
      },
      "outputs": [],
      "source": [
        "# reshape the data into 1D vectors\n",
        "x_train = x_train.reshape(60000, 784)\n",
        "x_test = x_test.reshape(10000, 784)\n",
        "\n",
        "num_classes = 10"
      ]
    },
    {
      "cell_type": "code",
      "execution_count": 13,
      "metadata": {
        "colab": {
          "base_uri": "https://localhost:8080/"
        },
        "id": "3rvhqIDuX1Gr",
        "outputId": "244de60f-0838-48a5-b6b0-75803c26c4d0"
      },
      "outputs": [
        {
          "data": {
            "text/plain": [
              "784"
            ]
          },
          "execution_count": 13,
          "metadata": {},
          "output_type": "execute_result"
        }
      ],
      "source": [
        "x_train.shape[1]"
      ]
    },
    {
      "cell_type": "markdown",
      "metadata": {
        "id": "SJNtPyqcX1Gr"
      },
      "source": [
        "Now let's prepare our class vector (y) to a binary class matrix, e.g. for use with categorical_crossentropy."
      ]
    },
    {
      "cell_type": "code",
      "execution_count": 14,
      "metadata": {
        "id": "CtLEYPAuX1Gr"
      },
      "outputs": [],
      "source": [
        "# Convert class vectors to binary class matrices\n",
        "y_train = keras.utils.to_categorical(y_train, num_classes)\n",
        "y_test = keras.utils.to_categorical(y_test, num_classes)"
      ]
    },
    {
      "cell_type": "code",
      "execution_count": 15,
      "metadata": {
        "colab": {
          "base_uri": "https://localhost:8080/"
        },
        "id": "pCNb4akDX1Gr",
        "outputId": "57bbdc1b-b43a-4e69-ccdd-56cbd6a8c731"
      },
      "outputs": [
        {
          "data": {
            "text/plain": [
              "array([0., 0., 0., 0., 0., 1., 0., 0., 0., 0.], dtype=float32)"
            ]
          },
          "execution_count": 15,
          "metadata": {},
          "output_type": "execute_result"
        }
      ],
      "source": [
        "y_train[0]"
      ]
    },
    {
      "cell_type": "markdown",
      "metadata": {
        "id": "dHPPT1B5X1Gr"
      },
      "source": [
        "Now we are ready to build the model!"
      ]
    },
    {
      "cell_type": "markdown",
      "metadata": {
        "id": "JwiISNAzX1Gr"
      },
      "source": [
        "### Step 2 - Adjusting the `learning rate`\n",
        "\n",
        "One of the most common optimization algorithm is Stochastic Gradient Descent (SGD). The hyperparameters that can be optimized in SGD are `learning rate`, `momentum`, `decay` and `nesterov`.\n",
        "\n",
        "`Learning rate` controls the weight at the end of each batch, and `momentum` controls how much to let the previous update influence the current weight update. `Decay` indicates the learning rate decay over each update, and `nesterov` takes the value True or False depending on if we want to apply Nesterov momentum. Typical values for those hyperparameters are lr=0.01, decay=1e-6, momentum=0.9, and nesterov=True.\n",
        "\n",
        "The learning rate hyperparameter goes into the `optimizer` function which we will see below. Keras has a default learning rate scheduler in the `SGD` optimizer that decreases the learning rate during the  stochastic gradient descent optimization algorithm. The learning rate is decreased according to this formula:\n",
        "\n",
        "\\begin{align}\n",
        "lr = lr * 1./(1. + decay * epoch)\n",
        "\\textrm{}\n",
        "\\end{align}"
      ]
    },
    {
      "cell_type": "markdown",
      "metadata": {
        "id": "x3KD_b8-X1Gr"
      },
      "source": [
        "Let's implement a learning rate adaptation schedule in `Keras`. We'll start with SGD and a learning rate value of 0.1. We will then train the model for 60\n",
        "epochs and set the decay argument to 0.0016 (0.1/60). We also include a momentum value of 0.8 since that seems to work well when using an adaptive learning rate."
      ]
    },
    {
      "cell_type": "code",
      "execution_count": 16,
      "metadata": {
        "id": "V-k8Axe2X1Gr"
      },
      "outputs": [],
      "source": [
        "epochs=10\n",
        "learning_rate = 0.1\n",
        "decay_rate = learning_rate / epochs\n",
        "momentum = 0.8\n",
        "\n",
        "# Not using decay parameter as it is deprecated for all optimizers in keras\n",
        "sgd = SGD(learning_rate=learning_rate, momentum=momentum, nesterov=False)"
      ]
    },
    {
      "cell_type": "code",
      "execution_count": 17,
      "metadata": {
        "id": "J-iVmTpqX1Gr"
      },
      "outputs": [],
      "source": [
        "# build the model\n",
        "input_dim = x_train.shape[1]\n",
        "\n",
        "lr_model = Sequential()\n",
        "lr_model.add(Dense(64, activation=tf.nn.relu, kernel_initializer='uniform',\n",
        "                input_dim = input_dim))\n",
        "lr_model.add(Dropout(0.1))\n",
        "lr_model.add(Dense(64, kernel_initializer='uniform', activation=tf.nn.relu))\n",
        "lr_model.add(Dense(num_classes, kernel_initializer='uniform', activation=tf.nn.softmax))\n",
        "\n",
        "# compile the model\n",
        "lr_model.compile(loss='categorical_crossentropy',\n",
        "              optimizer=sgd,\n",
        "              metrics=['acc'])"
      ]
    },
    {
      "cell_type": "code",
      "execution_count": 18,
      "metadata": {
        "colab": {
          "base_uri": "https://localhost:8080/"
        },
        "id": "TMELQuXSX1Gr",
        "outputId": "24d798dd-c3a2-45dc-e6e6-e282014ba4fa"
      },
      "outputs": [
        {
          "name": "stdout",
          "output_type": "stream",
          "text": [
            "Epoch 1/10\n",
            "8572/8572 [==============================] - 38s 4ms/step - loss: 1.5597 - acc: 0.4318 - val_loss: 1.6130 - val_acc: 0.2846\n",
            "Epoch 2/10\n",
            "8572/8572 [==============================] - 35s 4ms/step - loss: 1.9149 - acc: 0.2012 - val_loss: 1.7643 - val_acc: 0.2326\n",
            "Epoch 3/10\n",
            "8572/8572 [==============================] - 34s 4ms/step - loss: 1.9741 - acc: 0.1897 - val_loss: 2.0510 - val_acc: 0.1993\n",
            "Epoch 4/10\n",
            "8572/8572 [==============================] - 32s 4ms/step - loss: 1.9684 - acc: 0.1890 - val_loss: 1.8859 - val_acc: 0.1917\n",
            "Epoch 5/10\n",
            "8572/8572 [==============================] - 33s 4ms/step - loss: 1.9424 - acc: 0.1887 - val_loss: 1.9254 - val_acc: 0.1941\n",
            "Epoch 6/10\n",
            "8572/8572 [==============================] - 33s 4ms/step - loss: 2.0194 - acc: 0.1779 - val_loss: 1.9924 - val_acc: 0.2132\n",
            "Epoch 7/10\n",
            "8572/8572 [==============================] - 32s 4ms/step - loss: 1.9589 - acc: 0.1906 - val_loss: 1.9381 - val_acc: 0.1843\n",
            "Epoch 8/10\n",
            "8572/8572 [==============================] - 34s 4ms/step - loss: 1.9884 - acc: 0.1895 - val_loss: 1.9015 - val_acc: 0.1770\n",
            "Epoch 9/10\n",
            "8572/8572 [==============================] - 33s 4ms/step - loss: 1.9435 - acc: 0.1895 - val_loss: 2.2781 - val_acc: 0.1177\n",
            "Epoch 10/10\n",
            "8572/8572 [==============================] - 35s 4ms/step - loss: 2.0049 - acc: 0.1780 - val_loss: 1.9098 - val_acc: 0.1900\n",
            "CPU times: user 5min 24s, sys: 32.8 s, total: 5min 57s\n",
            "Wall time: 5min 39s\n"
          ]
        }
      ],
      "source": [
        "%%time\n",
        "# Fit the model\n",
        "batch_size = int(input_dim/100)\n",
        "\n",
        "lr_model_history = lr_model.fit(x_train, y_train,\n",
        "                    batch_size=batch_size,\n",
        "                    epochs=epochs,\n",
        "                    verbose=1,\n",
        "                    validation_data=(x_test, y_test))"
      ]
    },
    {
      "cell_type": "code",
      "execution_count": 19,
      "metadata": {
        "colab": {
          "base_uri": "https://localhost:8080/",
          "height": 570
        },
        "id": "5zdy0OJYX1Gr",
        "outputId": "f52f71b4-8c45-4db0-856d-7e3d6ab558aa"
      },
      "outputs": [
        {
          "data": {
            "image/png": "[encoded data removed]",
            "text/plain": [
              "<Figure size 1000x600 with 1 Axes>"
            ]
          },
          "metadata": {},
          "output_type": "display_data"
        }
      ],
      "source": [
        "fig, ax = plt.subplots(1, 1, figsize=(10,6))\n",
        "ax.plot(np.sqrt(lr_model_history.history['loss']), 'r', label='train')\n",
        "ax.plot(np.sqrt(lr_model_history.history['val_loss']), 'b' ,label='val')\n",
        "ax.set_xlabel(r'Epoch', fontsize=20)\n",
        "ax.set_ylabel(r'Loss', fontsize=20)\n",
        "ax.legend()\n",
        "ax.tick_params(labelsize=20)"
      ]
    },
    {
      "cell_type": "code",
      "execution_count": 20,
      "metadata": {
        "colab": {
          "base_uri": "https://localhost:8080/",
          "height": 570
        },
        "id": "nuPsWnMLX1Gs",
        "outputId": "aec4856c-a35f-4c8c-abbb-280fcfd2ee38"
      },
      "outputs": [
        {
          "data": {
            "image/png": "[encoded data removed]",
            "text/plain": [
              "<Figure size 1000x600 with 1 Axes>"
            ]
          },
          "metadata": {},
          "output_type": "display_data"
        }
      ],
      "source": [
        "fig, ax = plt.subplots(1, 1, figsize=(10,6))\n",
        "ax.plot(np.sqrt(lr_model_history.history['acc']), 'r', label='train')\n",
        "ax.plot(np.sqrt(lr_model_history.history['val_acc']), 'b' ,label='val')\n",
        "ax.set_xlabel(r'Epoch', fontsize=20)\n",
        "ax.set_ylabel(r'Accuracy', fontsize=20)\n",
        "ax.legend()\n",
        "ax.tick_params(labelsize=20)"
      ]
    },
    {
      "cell_type": "markdown",
      "metadata": {
        "id": "HA5aUFwiX1Gs"
      },
      "source": [
        "### Apply a custon learning rate change using `LearningRateScheduler`\n",
        "Write a function that performs the exponential learning rate decay as indicated by the following formula:\n",
        "\n",
        "\\begin{align}\n",
        "lr = lr0 * e^{(-kt)}\n",
        "\\textrm{}\n",
        "\\end{align}"
      ]
    },
    {
      "cell_type": "code",
      "execution_count": 21,
      "metadata": {
        "id": "qaZIZmkPX1Gs"
      },
      "outputs": [],
      "source": [
        "# solution\n",
        "epochs = 60\n",
        "learning_rate = 0.1 # initial learning rate\n",
        "decay_rate = 0.1\n",
        "momentum = 0.8\n",
        "\n",
        "# define the optimizer function\n",
        "# Not using decay parameter as it is deprecated for all optimizers in keras\n",
        "sgd = SGD(learning_rate=learning_rate, momentum=momentum, nesterov=False)"
      ]
    },
    {
      "cell_type": "code",
      "execution_count": 22,
      "metadata": {
        "id": "f1AIhx4WX1Gs"
      },
      "outputs": [],
      "source": [
        "input_dim = x_train.shape[1]\n",
        "num_classes = 10\n",
        "batch_size = 196\n",
        "\n",
        "# build the model\n",
        "exponential_decay_model = Sequential()\n",
        "exponential_decay_model.add(Dense(64, activation=tf.nn.relu, kernel_initializer='uniform', input_dim = input_dim))\n",
        "exponential_decay_model.add(Dropout(0.1))\n",
        "exponential_decay_model.add(Dense(64, kernel_initializer='uniform', activation=tf.nn.relu))\n",
        "exponential_decay_model.add(Dense(num_classes, kernel_initializer='uniform', activation=tf.nn.softmax))\n",
        "\n",
        "# compile the model\n",
        "exponential_decay_model.compile(loss='categorical_crossentropy',\n",
        "                                optimizer=sgd,\n",
        "                                metrics=['acc'])"
      ]
    },
    {
      "cell_type": "code",
      "execution_count": 23,
      "metadata": {
        "id": "DwTWz7dlX1Gs"
      },
      "outputs": [],
      "source": [
        "# define the learning rate change\n",
        "def exp_decay(epoch):\n",
        "    lrate = learning_rate * np.exp(-decay_rate*epoch)\n",
        "    return lrate"
      ]
    },
    {
      "cell_type": "code",
      "execution_count": 24,
      "metadata": {
        "colab": {
          "base_uri": "https://localhost:8080/"
        },
        "id": "vmLsykkfX1Gs",
        "outputId": "5bb9538b-3d47-48b1-fd39-11577b1f4008"
      },
      "outputs": [
        {
          "name": "stdout",
          "output_type": "stream",
          "text": [
            "Epoch 1/60\n",
            "307/307 [==============================] - 2s 5ms/step - loss: 0.7093 - acc: 0.7671 - val_loss: 0.2191 - val_acc: 0.9331 - lr: 0.1000\n",
            "Epoch 2/60\n",
            "307/307 [==============================] - 1s 4ms/step - loss: 0.2025 - acc: 0.9397 - val_loss: 0.1498 - val_acc: 0.9551 - lr: 0.0905\n",
            "Epoch 3/60\n",
            "307/307 [==============================] - 1s 4ms/step - loss: 0.1493 - acc: 0.9554 - val_loss: 0.1209 - val_acc: 0.9632 - lr: 0.0819\n",
            "Epoch 4/60\n",
            "307/307 [==============================] - 1s 4ms/step - loss: 0.1242 - acc: 0.9622 - val_loss: 0.0996 - val_acc: 0.9674 - lr: 0.0741\n",
            "Epoch 5/60\n",
            "307/307 [==============================] - 1s 4ms/step - loss: 0.1087 - acc: 0.9666 - val_loss: 0.1030 - val_acc: 0.9668 - lr: 0.0670\n",
            "Epoch 6/60\n",
            "307/307 [==============================] - 1s 4ms/step - loss: 0.0982 - acc: 0.9696 - val_loss: 0.0935 - val_acc: 0.9709 - lr: 0.0607\n",
            "Epoch 7/60\n",
            "307/307 [==============================] - 1s 4ms/step - loss: 0.0875 - acc: 0.9731 - val_loss: 0.0901 - val_acc: 0.9728 - lr: 0.0549\n",
            "Epoch 8/60\n",
            "307/307 [==============================] - 1s 4ms/step - loss: 0.0813 - acc: 0.9746 - val_loss: 0.0845 - val_acc: 0.9750 - lr: 0.0497\n",
            "Epoch 9/60\n",
            "307/307 [==============================] - 2s 5ms/step - loss: 0.0733 - acc: 0.9771 - val_loss: 0.0834 - val_acc: 0.9737 - lr: 0.0449\n",
            "Epoch 10/60\n",
            "307/307 [==============================] - 2s 6ms/step - loss: 0.0685 - acc: 0.9779 - val_loss: 0.0769 - val_acc: 0.9762 - lr: 0.0407\n",
            "Epoch 11/60\n",
            "307/307 [==============================] - 1s 5ms/step - loss: 0.0655 - acc: 0.9795 - val_loss: 0.0754 - val_acc: 0.9762 - lr: 0.0368\n",
            "Epoch 12/60\n",
            "307/307 [==============================] - 1s 4ms/step - loss: 0.0614 - acc: 0.9813 - val_loss: 0.0748 - val_acc: 0.9764 - lr: 0.0333\n",
            "Epoch 13/60\n",
            "307/307 [==============================] - 1s 4ms/step - loss: 0.0587 - acc: 0.9814 - val_loss: 0.0770 - val_acc: 0.9756 - lr: 0.0301\n",
            "Epoch 14/60\n",
            "307/307 [==============================] - 1s 4ms/step - loss: 0.0552 - acc: 0.9826 - val_loss: 0.0715 - val_acc: 0.9776 - lr: 0.0273\n",
            "Epoch 15/60\n",
            "307/307 [==============================] - 1s 4ms/step - loss: 0.0528 - acc: 0.9833 - val_loss: 0.0722 - val_acc: 0.9778 - lr: 0.0247\n",
            "Epoch 16/60\n",
            "307/307 [==============================] - 1s 4ms/step - loss: 0.0520 - acc: 0.9842 - val_loss: 0.0719 - val_acc: 0.9771 - lr: 0.0223\n",
            "Epoch 17/60\n",
            "307/307 [==============================] - 1s 4ms/step - loss: 0.0487 - acc: 0.9851 - val_loss: 0.0724 - val_acc: 0.9771 - lr: 0.0202\n",
            "Epoch 18/60\n",
            "307/307 [==============================] - 1s 4ms/step - loss: 0.0473 - acc: 0.9848 - val_loss: 0.0729 - val_acc: 0.9771 - lr: 0.0183\n",
            "Epoch 19/60\n",
            "307/307 [==============================] - 1s 4ms/step - loss: 0.0465 - acc: 0.9852 - val_loss: 0.0698 - val_acc: 0.9793 - lr: 0.0165\n",
            "Epoch 20/60\n",
            "307/307 [==============================] - 2s 5ms/step - loss: 0.0460 - acc: 0.9856 - val_loss: 0.0735 - val_acc: 0.9775 - lr: 0.0150\n",
            "Epoch 21/60\n",
            "307/307 [==============================] - 2s 5ms/step - loss: 0.0439 - acc: 0.9864 - val_loss: 0.0713 - val_acc: 0.9784 - lr: 0.0135\n",
            "Epoch 22/60\n",
            "307/307 [==============================] - 1s 4ms/step - loss: 0.0434 - acc: 0.9864 - val_loss: 0.0699 - val_acc: 0.9797 - lr: 0.0122\n",
            "Epoch 23/60\n",
            "307/307 [==============================] - 1s 4ms/step - loss: 0.0417 - acc: 0.9866 - val_loss: 0.0709 - val_acc: 0.9792 - lr: 0.0111\n",
            "Epoch 24/60\n",
            "307/307 [==============================] - 1s 4ms/step - loss: 0.0411 - acc: 0.9870 - val_loss: 0.0702 - val_acc: 0.9795 - lr: 0.0100\n",
            "Epoch 25/60\n",
            "307/307 [==============================] - 1s 4ms/step - loss: 0.0415 - acc: 0.9869 - val_loss: 0.0698 - val_acc: 0.9796 - lr: 0.0091\n",
            "Epoch 26/60\n",
            "307/307 [==============================] - 1s 4ms/step - loss: 0.0396 - acc: 0.9876 - val_loss: 0.0697 - val_acc: 0.9790 - lr: 0.0082\n",
            "Epoch 27/60\n",
            "307/307 [==============================] - 1s 4ms/step - loss: 0.0392 - acc: 0.9877 - val_loss: 0.0701 - val_acc: 0.9788 - lr: 0.0074\n",
            "Epoch 28/60\n",
            "307/307 [==============================] - 1s 4ms/step - loss: 0.0394 - acc: 0.9876 - val_loss: 0.0700 - val_acc: 0.9792 - lr: 0.0067\n",
            "Epoch 29/60\n",
            "307/307 [==============================] - 1s 4ms/step - loss: 0.0401 - acc: 0.9871 - val_loss: 0.0704 - val_acc: 0.9791 - lr: 0.0061\n",
            "Epoch 30/60\n",
            "307/307 [==============================] - 1s 5ms/step - loss: 0.0393 - acc: 0.9881 - val_loss: 0.0697 - val_acc: 0.9793 - lr: 0.0055\n",
            "Epoch 31/60\n",
            "307/307 [==============================] - 2s 6ms/step - loss: 0.0384 - acc: 0.9879 - val_loss: 0.0697 - val_acc: 0.9792 - lr: 0.0050\n",
            "Epoch 32/60\n",
            "307/307 [==============================] - 2s 5ms/step - loss: 0.0375 - acc: 0.9885 - val_loss: 0.0701 - val_acc: 0.9792 - lr: 0.0045\n",
            "Epoch 33/60\n",
            "307/307 [==============================] - 1s 4ms/step - loss: 0.0382 - acc: 0.9883 - val_loss: 0.0699 - val_acc: 0.9794 - lr: 0.0041\n",
            "Epoch 34/60\n",
            "307/307 [==============================] - 1s 5ms/step - loss: 0.0378 - acc: 0.9881 - val_loss: 0.0699 - val_acc: 0.9792 - lr: 0.0037\n",
            "Epoch 35/60\n",
            "307/307 [==============================] - 1s 4ms/step - loss: 0.0371 - acc: 0.9883 - val_loss: 0.0696 - val_acc: 0.9798 - lr: 0.0033\n",
            "Epoch 36/60\n",
            "307/307 [==============================] - 1s 4ms/step - loss: 0.0378 - acc: 0.9880 - val_loss: 0.0698 - val_acc: 0.9796 - lr: 0.0030\n",
            "Epoch 37/60\n",
            "307/307 [==============================] - 1s 4ms/step - loss: 0.0367 - acc: 0.9886 - val_loss: 0.0694 - val_acc: 0.9799 - lr: 0.0027\n",
            "Epoch 38/60\n",
            "307/307 [==============================] - 1s 4ms/step - loss: 0.0362 - acc: 0.9888 - val_loss: 0.0702 - val_acc: 0.9788 - lr: 0.0025\n",
            "Epoch 39/60\n",
            "307/307 [==============================] - 1s 4ms/step - loss: 0.0369 - acc: 0.9887 - val_loss: 0.0699 - val_acc: 0.9797 - lr: 0.0022\n",
            "Epoch 40/60\n",
            "307/307 [==============================] - 1s 4ms/step - loss: 0.0383 - acc: 0.9878 - val_loss: 0.0699 - val_acc: 0.9788 - lr: 0.0020\n",
            "Epoch 41/60\n",
            "307/307 [==============================] - 2s 7ms/step - loss: 0.0358 - acc: 0.9887 - val_loss: 0.0697 - val_acc: 0.9795 - lr: 0.0018\n",
            "Epoch 42/60\n",
            "307/307 [==============================] - 2s 6ms/step - loss: 0.0354 - acc: 0.9887 - val_loss: 0.0696 - val_acc: 0.9791 - lr: 0.0017\n",
            "Epoch 43/60\n",
            "307/307 [==============================] - 1s 4ms/step - loss: 0.0375 - acc: 0.9882 - val_loss: 0.0694 - val_acc: 0.9793 - lr: 0.0015\n",
            "Epoch 44/60\n",
            "307/307 [==============================] - 1s 4ms/step - loss: 0.0375 - acc: 0.9883 - val_loss: 0.0694 - val_acc: 0.9791 - lr: 0.0014\n",
            "Epoch 45/60\n",
            "307/307 [==============================] - 1s 4ms/step - loss: 0.0370 - acc: 0.9887 - val_loss: 0.0695 - val_acc: 0.9795 - lr: 0.0012\n",
            "Epoch 46/60\n",
            "307/307 [==============================] - 1s 4ms/step - loss: 0.0353 - acc: 0.9882 - val_loss: 0.0695 - val_acc: 0.9791 - lr: 0.0011\n",
            "Epoch 47/60\n",
            "307/307 [==============================] - 1s 4ms/step - loss: 0.0368 - acc: 0.9889 - val_loss: 0.0695 - val_acc: 0.9795 - lr: 0.0010\n",
            "Epoch 48/60\n",
            "307/307 [==============================] - 1s 4ms/step - loss: 0.0359 - acc: 0.9887 - val_loss: 0.0698 - val_acc: 0.9793 - lr: 9.0953e-04\n",
            "Epoch 49/60\n",
            "307/307 [==============================] - 1s 4ms/step - loss: 0.0363 - acc: 0.9887 - val_loss: 0.0698 - val_acc: 0.9791 - lr: 8.2297e-04\n",
            "Epoch 50/60\n",
            "307/307 [==============================] - 1s 4ms/step - loss: 0.0356 - acc: 0.9889 - val_loss: 0.0698 - val_acc: 0.9795 - lr: 7.4466e-04\n",
            "Epoch 51/60\n",
            "307/307 [==============================] - 2s 5ms/step - loss: 0.0346 - acc: 0.9897 - val_loss: 0.0698 - val_acc: 0.9794 - lr: 6.7379e-04\n",
            "Epoch 52/60\n",
            "307/307 [==============================] - 2s 5ms/step - loss: 0.0357 - acc: 0.9891 - val_loss: 0.0698 - val_acc: 0.9793 - lr: 6.0967e-04\n",
            "Epoch 53/60\n",
            "307/307 [==============================] - 2s 5ms/step - loss: 0.0361 - acc: 0.9884 - val_loss: 0.0699 - val_acc: 0.9792 - lr: 5.5166e-04\n",
            "Epoch 54/60\n",
            "307/307 [==============================] - 1s 4ms/step - loss: 0.0357 - acc: 0.9887 - val_loss: 0.0699 - val_acc: 0.9793 - lr: 4.9916e-04\n",
            "Epoch 55/60\n",
            "307/307 [==============================] - 1s 4ms/step - loss: 0.0350 - acc: 0.9889 - val_loss: 0.0698 - val_acc: 0.9794 - lr: 4.5166e-04\n",
            "Epoch 56/60\n",
            "307/307 [==============================] - 1s 4ms/step - loss: 0.0367 - acc: 0.9880 - val_loss: 0.0698 - val_acc: 0.9793 - lr: 4.0868e-04\n",
            "Epoch 57/60\n",
            "307/307 [==============================] - 1s 4ms/step - loss: 0.0350 - acc: 0.9887 - val_loss: 0.0699 - val_acc: 0.9793 - lr: 3.6979e-04\n",
            "Epoch 58/60\n",
            "307/307 [==============================] - 1s 4ms/step - loss: 0.0353 - acc: 0.9889 - val_loss: 0.0699 - val_acc: 0.9793 - lr: 3.3460e-04\n",
            "Epoch 59/60\n",
            "307/307 [==============================] - 1s 4ms/step - loss: 0.0345 - acc: 0.9895 - val_loss: 0.0699 - val_acc: 0.9794 - lr: 3.0276e-04\n",
            "Epoch 60/60\n",
            "307/307 [==============================] - 1s 4ms/step - loss: 0.0358 - acc: 0.9888 - val_loss: 0.0698 - val_acc: 0.9794 - lr: 2.7394e-04\n"
          ]
        }
      ],
      "source": [
        "# learning schedule callback\n",
        "loss_history = History()\n",
        "lr_rate = LearningRateScheduler(exp_decay)\n",
        "callbacks_list = [loss_history, lr_rate]\n",
        "\n",
        "# you invoke the LearningRateScheduler during the .fit() phase\n",
        "exponential_decay_model_history = exponential_decay_model.fit(x_train, y_train,\n",
        "                                    batch_size=batch_size,\n",
        "                                    epochs=epochs,\n",
        "                                    callbacks=callbacks_list,\n",
        "                                    verbose=1,\n",
        "                                    validation_data=(x_test, y_test))"
      ]
    },
    {
      "cell_type": "code",
      "execution_count": 25,
      "metadata": {
        "colab": {
          "base_uri": "https://localhost:8080/"
        },
        "id": "cryr77S3X1Gs",
        "outputId": "76a85545-30fb-4e0a-d780-76cef3916dc4"
      },
      "outputs": [
        {
          "data": {
            "text/plain": [
              "dict_keys(['loss', 'acc', 'val_loss', 'val_acc'])"
            ]
          },
          "execution_count": 25,
          "metadata": {},
          "output_type": "execute_result"
        }
      ],
      "source": [
        "# check on the variables that can show me the learning rate decay\n",
        "exponential_decay_model_history.history.keys()"
      ]
    },
    {
      "cell_type": "code",
      "execution_count": 26,
      "metadata": {
        "colab": {
          "base_uri": "https://localhost:8080/",
          "height": 570
        },
        "id": "XTOhamp6X1Gs",
        "outputId": "e00d491f-2cf8-4b3e-ce31-9d69eef1a63a"
      },
      "outputs": [
        {
          "data": {
            "image/png": "[encoded data removed]",
            "text/plain": [
              "<Figure size 1000x600 with 1 Axes>"
            ]
          },
          "metadata": {},
          "output_type": "display_data"
        }
      ],
      "source": [
        "fig, ax = plt.subplots(1, 1, figsize=(10,6))\n",
        "ax.plot(np.sqrt(exponential_decay_model_history.history['loss']), 'r', label='train')\n",
        "ax.plot(np.sqrt(exponential_decay_model_history.history['val_loss']), 'b' ,label='val')\n",
        "ax.set_xlabel(r'Epoch', fontsize=20)\n",
        "ax.set_ylabel(r'Loss', fontsize=20)\n",
        "ax.legend()\n",
        "ax.tick_params(labelsize=20)"
      ]
    },
    {
      "cell_type": "markdown",
      "metadata": {
        "id": "-scXQJboX1Gs"
      },
      "source": [
        "### Step 3 - Choosing an `optimizer` and a `loss function`\n",
        "\n",
        "When constructing a model and using it to make our predictions, for example to assign label scores to images (\"cat\", \"plane\", etc), we want to measure our success or failure by defining a \"loss\" function (or objective function). The goal of optimization is to efficiently calculate the parameters/weights that minimize this loss function. `keras` provides various types of [loss functions](https://github.com/keras-team/keras/blob/master/keras/losses.py).\n",
        "\n",
        "Sometimes the \"loss\" function measures the \"distance\". We can define this \"distance\" between two data points in various ways suitable to the problem or dataset.\n",
        "\n",
        "Distance\n",
        "\n",
        "- Euclidean\n",
        "- Manhattan\n",
        "- others such as Hamming which measures distances between strings, for example. The Hamming distance of \"carolin\" and \"cathrin\" is 3.\n",
        "\n",
        "Loss functions\n",
        "- MSE (for regression)\n",
        "- categorical cross-entropy (for classification)\n",
        "- binary cross entropy (for classification)"
      ]
    },
    {
      "cell_type": "code",
      "execution_count": 27,
      "metadata": {
        "id": "zlGzwUapX1Gs"
      },
      "outputs": [],
      "source": [
        "# build the model\n",
        "input_dim = x_train.shape[1]\n",
        "\n",
        "model = Sequential()\n",
        "model.add(Dense(64, activation=tf.nn.relu, kernel_initializer='uniform',\n",
        "                input_dim = input_dim)) # fully-connected layer with 64 hidden units\n",
        "model.add(Dropout(0.1))\n",
        "model.add(Dense(64, kernel_initializer='uniform', activation=tf.nn.relu))\n",
        "model.add(Dense(num_classes, kernel_initializer='uniform', activation=tf.nn.softmax))"
      ]
    },
    {
      "cell_type": "code",
      "execution_count": 28,
      "metadata": {
        "id": "KyrDQ_yUX1Gs"
      },
      "outputs": [],
      "source": [
        "# defining the parameters for RMSprop (I used the keras defaults here)\n",
        "rms = RMSprop(learning_rate=0.001, rho=0.9, epsilon=np.finfo(float).eps)\n",
        "\n",
        "model.compile(loss='categorical_crossentropy',\n",
        "              optimizer=rms,\n",
        "              metrics=['acc'], run_eagerly=True)"
      ]
    },
    {
      "cell_type": "markdown",
      "metadata": {
        "id": "FpiVkV_oX1Gs"
      },
      "source": [
        "### Step 4 - Deciding on the `batch size` and `number of epochs`"
      ]
    },
    {
      "cell_type": "code",
      "execution_count": 29,
      "metadata": {
        "colab": {
          "base_uri": "https://localhost:8080/"
        },
        "id": "GiDp2QnhX1Gs",
        "outputId": "96a86531-0b20-43c9-b88d-c4b58362bcb2"
      },
      "outputs": [
        {
          "name": "stdout",
          "output_type": "stream",
          "text": [
            "Epoch 1/60\n",
            "77/77 [==============================] - 5s 37ms/step - loss: 1.1040 - acc: 0.7012 - val_loss: 0.5342 - val_acc: 0.8447\n",
            "Epoch 2/60\n",
            "77/77 [==============================] - 3s 35ms/step - loss: 0.4767 - acc: 0.8584 - val_loss: 0.3748 - val_acc: 0.8944\n",
            "Epoch 3/60\n",
            "77/77 [==============================] - 3s 35ms/step - loss: 0.3701 - acc: 0.8913 - val_loss: 0.3193 - val_acc: 0.9045\n",
            "Epoch 4/60\n",
            "77/77 [==============================] - 3s 45ms/step - loss: 0.3112 - acc: 0.9089 - val_loss: 0.2692 - val_acc: 0.9211\n",
            "Epoch 5/60\n",
            "77/77 [==============================] - 3s 37ms/step - loss: 0.2711 - acc: 0.9203 - val_loss: 0.2308 - val_acc: 0.9308\n",
            "Epoch 6/60\n",
            "77/77 [==============================] - 3s 35ms/step - loss: 0.2387 - acc: 0.9302 - val_loss: 0.2006 - val_acc: 0.9418\n",
            "Epoch 7/60\n",
            "77/77 [==============================] - 3s 37ms/step - loss: 0.2113 - acc: 0.9378 - val_loss: 0.1845 - val_acc: 0.9441\n",
            "Epoch 8/60\n",
            "77/77 [==============================] - 3s 38ms/step - loss: 0.1901 - acc: 0.9437 - val_loss: 0.1653 - val_acc: 0.9512\n",
            "Epoch 9/60\n",
            "77/77 [==============================] - 4s 47ms/step - loss: 0.1733 - acc: 0.9480 - val_loss: 0.1542 - val_acc: 0.9559\n",
            "Epoch 10/60\n",
            "77/77 [==============================] - 3s 35ms/step - loss: 0.1582 - acc: 0.9525 - val_loss: 0.1405 - val_acc: 0.9585\n",
            "Epoch 11/60\n",
            "77/77 [==============================] - 3s 34ms/step - loss: 0.1477 - acc: 0.9561 - val_loss: 0.1454 - val_acc: 0.9559\n",
            "Epoch 12/60\n",
            "77/77 [==============================] - 3s 34ms/step - loss: 0.1349 - acc: 0.9596 - val_loss: 0.1246 - val_acc: 0.9635\n",
            "Epoch 13/60\n",
            "77/77 [==============================] - 3s 40ms/step - loss: 0.1250 - acc: 0.9627 - val_loss: 0.1217 - val_acc: 0.9621\n",
            "Epoch 14/60\n",
            "77/77 [==============================] - 3s 42ms/step - loss: 0.1176 - acc: 0.9641 - val_loss: 0.1183 - val_acc: 0.9650\n",
            "Epoch 15/60\n",
            "77/77 [==============================] - 3s 34ms/step - loss: 0.1099 - acc: 0.9663 - val_loss: 0.1106 - val_acc: 0.9668\n",
            "Epoch 16/60\n",
            "77/77 [==============================] - 3s 36ms/step - loss: 0.1042 - acc: 0.9681 - val_loss: 0.1060 - val_acc: 0.9680\n",
            "Epoch 17/60\n",
            "77/77 [==============================] - 3s 35ms/step - loss: 0.0996 - acc: 0.9697 - val_loss: 0.1062 - val_acc: 0.9662\n",
            "Epoch 18/60\n",
            "77/77 [==============================] - 3s 42ms/step - loss: 0.0950 - acc: 0.9707 - val_loss: 0.0999 - val_acc: 0.9706\n",
            "Epoch 19/60\n",
            "77/77 [==============================] - 3s 39ms/step - loss: 0.0892 - acc: 0.9727 - val_loss: 0.1007 - val_acc: 0.9696\n",
            "Epoch 20/60\n",
            "77/77 [==============================] - 3s 35ms/step - loss: 0.0861 - acc: 0.9737 - val_loss: 0.0925 - val_acc: 0.9712\n",
            "Epoch 21/60\n",
            "77/77 [==============================] - 3s 35ms/step - loss: 0.0824 - acc: 0.9747 - val_loss: 0.0990 - val_acc: 0.9716\n",
            "Epoch 22/60\n",
            "77/77 [==============================] - 3s 37ms/step - loss: 0.0783 - acc: 0.9761 - val_loss: 0.1009 - val_acc: 0.9694\n",
            "Epoch 23/60\n",
            "77/77 [==============================] - 3s 44ms/step - loss: 0.0757 - acc: 0.9766 - val_loss: 0.0900 - val_acc: 0.9722\n",
            "Epoch 24/60\n",
            "77/77 [==============================] - 3s 37ms/step - loss: 0.0725 - acc: 0.9766 - val_loss: 0.0891 - val_acc: 0.9736\n",
            "Epoch 25/60\n",
            "77/77 [==============================] - 3s 45ms/step - loss: 0.0702 - acc: 0.9783 - val_loss: 0.0875 - val_acc: 0.9732\n",
            "Epoch 26/60\n",
            "77/77 [==============================] - 3s 36ms/step - loss: 0.0675 - acc: 0.9786 - val_loss: 0.0891 - val_acc: 0.9722\n",
            "Epoch 27/60\n",
            "77/77 [==============================] - 3s 39ms/step - loss: 0.0647 - acc: 0.9794 - val_loss: 0.0918 - val_acc: 0.9735\n",
            "Epoch 28/60\n",
            "77/77 [==============================] - 4s 46ms/step - loss: 0.0614 - acc: 0.9806 - val_loss: 0.0876 - val_acc: 0.9738\n",
            "Epoch 29/60\n",
            "77/77 [==============================] - 3s 34ms/step - loss: 0.0590 - acc: 0.9812 - val_loss: 0.0873 - val_acc: 0.9734\n",
            "Epoch 30/60\n",
            "77/77 [==============================] - 3s 37ms/step - loss: 0.0581 - acc: 0.9822 - val_loss: 0.0865 - val_acc: 0.9742\n",
            "Epoch 31/60\n",
            "77/77 [==============================] - 3s 35ms/step - loss: 0.0550 - acc: 0.9824 - val_loss: 0.0839 - val_acc: 0.9746\n",
            "Epoch 32/60\n",
            "77/77 [==============================] - 3s 43ms/step - loss: 0.0544 - acc: 0.9827 - val_loss: 0.0853 - val_acc: 0.9754\n",
            "Epoch 33/60\n",
            "77/77 [==============================] - 3s 41ms/step - loss: 0.0530 - acc: 0.9830 - val_loss: 0.0893 - val_acc: 0.9732\n",
            "Epoch 34/60\n",
            "77/77 [==============================] - 3s 34ms/step - loss: 0.0500 - acc: 0.9841 - val_loss: 0.0914 - val_acc: 0.9743\n",
            "Epoch 35/60\n",
            "77/77 [==============================] - 3s 35ms/step - loss: 0.0497 - acc: 0.9841 - val_loss: 0.0845 - val_acc: 0.9752\n",
            "Epoch 36/60\n",
            "77/77 [==============================] - 3s 34ms/step - loss: 0.0469 - acc: 0.9853 - val_loss: 0.0842 - val_acc: 0.9760\n",
            "Epoch 37/60\n",
            "77/77 [==============================] - 3s 46ms/step - loss: 0.0471 - acc: 0.9847 - val_loss: 0.0890 - val_acc: 0.9729\n",
            "Epoch 38/60\n",
            "77/77 [==============================] - 3s 39ms/step - loss: 0.0449 - acc: 0.9855 - val_loss: 0.0830 - val_acc: 0.9761\n",
            "Epoch 39/60\n",
            "77/77 [==============================] - 3s 34ms/step - loss: 0.0442 - acc: 0.9860 - val_loss: 0.0870 - val_acc: 0.9758\n",
            "Epoch 40/60\n",
            "77/77 [==============================] - 3s 34ms/step - loss: 0.0426 - acc: 0.9856 - val_loss: 0.0846 - val_acc: 0.9751\n",
            "Epoch 41/60\n",
            "77/77 [==============================] - 3s 39ms/step - loss: 0.0429 - acc: 0.9860 - val_loss: 0.0869 - val_acc: 0.9755\n",
            "Epoch 42/60\n",
            "77/77 [==============================] - 4s 47ms/step - loss: 0.0409 - acc: 0.9868 - val_loss: 0.0866 - val_acc: 0.9769\n",
            "Epoch 43/60\n",
            "77/77 [==============================] - 3s 35ms/step - loss: 0.0387 - acc: 0.9875 - val_loss: 0.0862 - val_acc: 0.9747\n",
            "Epoch 44/60\n",
            "77/77 [==============================] - 3s 35ms/step - loss: 0.0375 - acc: 0.9877 - val_loss: 0.0878 - val_acc: 0.9752\n",
            "Epoch 45/60\n",
            "77/77 [==============================] - 3s 34ms/step - loss: 0.0367 - acc: 0.9879 - val_loss: 0.0886 - val_acc: 0.9749\n",
            "Epoch 46/60\n",
            "77/77 [==============================] - 3s 39ms/step - loss: 0.0372 - acc: 0.9877 - val_loss: 0.0888 - val_acc: 0.9750\n",
            "Epoch 47/60\n",
            "77/77 [==============================] - 3s 44ms/step - loss: 0.0372 - acc: 0.9875 - val_loss: 0.0862 - val_acc: 0.9767\n",
            "Epoch 48/60\n",
            "77/77 [==============================] - 3s 35ms/step - loss: 0.0345 - acc: 0.9887 - val_loss: 0.0874 - val_acc: 0.9760\n",
            "Epoch 49/60\n",
            "77/77 [==============================] - 3s 35ms/step - loss: 0.0350 - acc: 0.9884 - val_loss: 0.0908 - val_acc: 0.9765\n",
            "Epoch 50/60\n",
            "77/77 [==============================] - 3s 34ms/step - loss: 0.0331 - acc: 0.9891 - val_loss: 0.0904 - val_acc: 0.9754\n",
            "Epoch 51/60\n",
            "77/77 [==============================] - 3s 40ms/step - loss: 0.0320 - acc: 0.9894 - val_loss: 0.0911 - val_acc: 0.9760\n",
            "Epoch 52/60\n",
            "77/77 [==============================] - 3s 42ms/step - loss: 0.0333 - acc: 0.9899 - val_loss: 0.0906 - val_acc: 0.9753\n",
            "Epoch 53/60\n",
            "77/77 [==============================] - 3s 35ms/step - loss: 0.0315 - acc: 0.9897 - val_loss: 0.0920 - val_acc: 0.9755\n",
            "Epoch 54/60\n",
            "77/77 [==============================] - 3s 35ms/step - loss: 0.0307 - acc: 0.9900 - val_loss: 0.0926 - val_acc: 0.9756\n",
            "Epoch 55/60\n",
            "77/77 [==============================] - 3s 34ms/step - loss: 0.0297 - acc: 0.9902 - val_loss: 0.0942 - val_acc: 0.9756\n",
            "Epoch 56/60\n",
            "77/77 [==============================] - 3s 41ms/step - loss: 0.0300 - acc: 0.9902 - val_loss: 0.0889 - val_acc: 0.9767\n",
            "Epoch 57/60\n",
            "77/77 [==============================] - 3s 43ms/step - loss: 0.0293 - acc: 0.9906 - val_loss: 0.0935 - val_acc: 0.9769\n",
            "Epoch 58/60\n",
            "77/77 [==============================] - 3s 36ms/step - loss: 0.0277 - acc: 0.9908 - val_loss: 0.0906 - val_acc: 0.9762\n",
            "Epoch 59/60\n",
            "77/77 [==============================] - 3s 37ms/step - loss: 0.0282 - acc: 0.9912 - val_loss: 0.0902 - val_acc: 0.9775\n",
            "Epoch 60/60\n",
            "77/77 [==============================] - 3s 37ms/step - loss: 0.0271 - acc: 0.9914 - val_loss: 0.0983 - val_acc: 0.9744\n",
            "CPU times: user 2min 48s, sys: 3.61 s, total: 2min 51s\n",
            "Wall time: 2min 59s\n"
          ]
        }
      ],
      "source": [
        "%%time\n",
        "batch_size = input_dim\n",
        "epochs = 60\n",
        "\n",
        "model_history = model.fit(x_train, y_train, batch_size=batch_size, epochs=epochs, verbose=1, validation_data=(x_test, y_test))"
      ]
    },
    {
      "cell_type": "code",
      "execution_count": 30,
      "metadata": {
        "colab": {
          "base_uri": "https://localhost:8080/"
        },
        "id": "nZFf7kRvX1Gs",
        "outputId": "c1d5e172-216f-47a5-fe4b-8258ed17c869"
      },
      "outputs": [
        {
          "name": "stdout",
          "output_type": "stream",
          "text": [
            "Test loss: 0.09825628995895386\n",
            "Test accuracy: 0.974399983882904\n"
          ]
        }
      ],
      "source": [
        "score = model.evaluate(x_test, y_test, verbose=0)\n",
        "print('Test loss:', score[0])\n",
        "print('Test accuracy:', score[1])"
      ]
    },
    {
      "cell_type": "code",
      "execution_count": 31,
      "metadata": {
        "colab": {
          "base_uri": "https://localhost:8080/",
          "height": 571
        },
        "id": "0arvo4T1X1Gs",
        "outputId": "495c5f21-96c1-4f0e-9002-40587c2e1d5d"
      },
      "outputs": [
        {
          "data": {
            "image/png": "[encoded data removed]",
            "text/plain": [
              "<Figure size 1000x600 with 1 Axes>"
            ]
          },
          "metadata": {},
          "output_type": "display_data"
        }
      ],
      "source": [
        "fig, ax = plt.subplots(1, 1, figsize=(10,6))\n",
        "ax.plot(np.sqrt(model_history.history['acc']), 'r', label='train_acc')\n",
        "ax.plot(np.sqrt(model_history.history['val_acc']), 'b' ,label='val_acc')\n",
        "ax.set_xlabel(r'Epoch', fontsize=20)\n",
        "ax.set_ylabel(r'Accuracy', fontsize=20)\n",
        "ax.legend()\n",
        "ax.tick_params(labelsize=20)"
      ]
    },
    {
      "cell_type": "code",
      "execution_count": 32,
      "metadata": {
        "colab": {
          "base_uri": "https://localhost:8080/",
          "height": 570
        },
        "id": "PRaJjZ-dX1Gs",
        "outputId": "7f51b0cd-d0a0-48be-f37a-5ef9830dca84"
      },
      "outputs": [
        {
          "data": {
            "image/png": "[encoded data removed]",
            "text/plain": [
              "<Figure size 1000x600 with 1 Axes>"
            ]
          },
          "metadata": {},
          "output_type": "display_data"
        }
      ],
      "source": [
        "fig, ax = plt.subplots(1, 1, figsize=(10,6))\n",
        "ax.plot(np.sqrt(model_history.history['loss']), 'r', label='train')\n",
        "ax.plot(np.sqrt(model_history.history['val_loss']), 'b' ,label='val')\n",
        "ax.set_xlabel(r'Epoch', fontsize=20)\n",
        "ax.set_ylabel(r'Loss', fontsize=20)\n",
        "ax.legend()\n",
        "ax.tick_params(labelsize=20)"
      ]
    },
    {
      "cell_type": "markdown",
      "metadata": {
        "id": "tv8NBLv0X1Gs"
      },
      "source": [
        "### Step 5 - Random restarts"
      ]
    },
    {
      "cell_type": "markdown",
      "metadata": {
        "id": "voxcz6l3X1Gs"
      },
      "source": [
        "This method does not seem to have an implementation in `keras`. Develop your own function for this using `keras.callbacks.LearningRateScheduler`. You can refer back to how we used it to set a custom learning rate.\n"
      ]
    },
    {
      "cell_type": "markdown",
      "metadata": {
        "id": "2VcYKKkyX1Gs"
      },
      "source": [
        "### Tuning the Hyperparameters using Cross Validation\n",
        "\n",
        "Now instead of trying different values by hand, we will use GridSearchCV from Scikit-Learn to try out several values for our hyperparameters and compare the results.\n",
        "\n",
        "To do cross-validation with `keras` we will use the wrappers for the Scikit-Learn API. They provide a way to use Sequential Keras models (single-input only) as part of your Scikit-Learn workflow.\n",
        "\n",
        "There are two wrappers available:\n",
        "\n",
        "`keras.wrappers.scikit_learn.KerasClassifier(build_fn=None, **sk_params)`, which implements the Scikit-Learn classifier interface,\n",
        "\n",
        "`keras.wrappers.scikit_learn.KerasRegressor(build_fn=None, **sk_params)`, which implements the Scikit-Learn regressor interface."
      ]
    },
    {
      "cell_type": "code",
      "execution_count": 33,
      "metadata": {
        "id": "Pg-OdcEHX1Gt"
      },
      "outputs": [],
      "source": [
        "import numpy\n",
        "from sklearn.model_selection import GridSearchCV\n",
        "from keras.wrappers.scikit_learn import KerasClassifier\n",
        "\n"
      ]
    },
    {
      "cell_type": "markdown",
      "metadata": {
        "id": "KKKj4b-UX1Gt"
      },
      "source": [
        "#### Trying different weight initializations"
      ]
    },
    {
      "cell_type": "code",
      "execution_count": 34,
      "metadata": {
        "id": "yC1HCFtnX1Gt"
      },
      "outputs": [],
      "source": [
        "# let's create a function that creates the model (required for KerasClassifier)\n",
        "# while accepting the hyperparameters we want to tune\n",
        "# we also pass some default values such as optimizer='rmsprop'\n",
        "def create_model(init_mode='uniform'):\n",
        "    # define model\n",
        "    model = Sequential()\n",
        "    model.add(Dense(64, kernel_initializer=init_mode, activation=tf.nn.relu, input_dim=784))\n",
        "    model.add(Dropout(0.1))\n",
        "    model.add(Dense(64, kernel_initializer=init_mode, activation=tf.nn.relu))\n",
        "    model.add(Dense(10, kernel_initializer=init_mode, activation=tf.nn.softmax))\n",
        "    # compile model\n",
        "    model.compile(loss='categorical_crossentropy',\n",
        "              optimizer=RMSprop(),\n",
        "              metrics=['accuracy'])\n",
        "    return model"
      ]
    },
    {
      "cell_type": "code",
      "execution_count": 38,
      "metadata": {
        "colab": {
          "base_uri": "https://localhost:8080/"
        },
        "id": "KjjtigSTX1Gt",
        "outputId": "972989be-c988-4492-ad11-0a2afb0f9c76"
      },
      "outputs": [
        {
          "name": "stderr",
          "output_type": "stream",
          "text": [
            "<ipython-input-38-7eb634ecab5f>:7: DeprecationWarning: KerasClassifier is deprecated, use Sci-Keras (https://github.com/adriangb/scikeras) instead. See https://www.adriangb.com/scikeras/stable/migration.html for help migrating.\n",
            "  model_CV = KerasClassifier(build_fn=create_model, epochs=epochs,\n"
          ]
        },
        {
          "name": "stdout",
          "output_type": "stream",
          "text": [
            "Epoch 1/10\n",
            "469/469 [==============================] - 2s 4ms/step - loss: 0.3768 - accuracy: 0.8905\n",
            "Epoch 2/10\n",
            "469/469 [==============================] - 2s 5ms/step - loss: 0.1845 - accuracy: 0.9449\n",
            "Epoch 3/10\n",
            "469/469 [==============================] - 2s 5ms/step - loss: 0.1434 - accuracy: 0.9567\n",
            "Epoch 4/10\n",
            "469/469 [==============================] - 2s 4ms/step - loss: 0.1215 - accuracy: 0.9629\n",
            "Epoch 5/10\n",
            "469/469 [==============================] - 2s 4ms/step - loss: 0.1054 - accuracy: 0.9668\n",
            "Epoch 6/10\n",
            "469/469 [==============================] - 2s 4ms/step - loss: 0.0952 - accuracy: 0.9701\n",
            "Epoch 7/10\n",
            "469/469 [==============================] - 2s 4ms/step - loss: 0.0869 - accuracy: 0.9739\n",
            "Epoch 8/10\n",
            "469/469 [==============================] - 2s 4ms/step - loss: 0.0808 - accuracy: 0.9750\n",
            "Epoch 9/10\n",
            "469/469 [==============================] - 2s 4ms/step - loss: 0.0728 - accuracy: 0.9776\n",
            "Epoch 10/10\n",
            "469/469 [==============================] - 2s 5ms/step - loss: 0.0715 - accuracy: 0.9768\n"
          ]
        }
      ],
      "source": [
        "# %%time\n",
        "seed = 7\n",
        "numpy.random.seed(seed)\n",
        "batch_size = 128\n",
        "epochs = 10\n",
        "\n",
        "model_CV = KerasClassifier(build_fn=create_model, epochs=epochs,\n",
        "                           batch_size=batch_size, verbose=1)\n",
        "# define the grid search parameters\n",
        "init_mode = ['uniform', 'lecun_uniform', 'normal', 'zero',\n",
        "             'glorot_normal', 'glorot_uniform', 'he_normal', 'he_uniform']\n",
        "\n",
        "param_grid = dict(init_mode=init_mode)\n",
        "grid = GridSearchCV(estimator=model_CV, param_grid=param_grid, n_jobs=-1, cv=3)\n",
        "grid_result = grid.fit(x_train, y_train)"
      ]
    },
    {
      "cell_type": "code",
      "execution_count": 39,
      "metadata": {
        "colab": {
          "base_uri": "https://localhost:8080/"
        },
        "id": "KguzdKl8X1Gt",
        "outputId": "d9af0694-3bfd-4a6f-f70a-7794de32d2df"
      },
      "outputs": [
        {
          "name": "stdout",
          "output_type": "stream",
          "text": [
            "Best Accuracy for 0.9687833189964294 using {'init_mode': 'he_normal'}\n",
            " mean=0.966, std=0.002072 using {'init_mode': 'uniform'}\n",
            " mean=0.9679, std=0.0008576 using {'init_mode': 'lecun_uniform'}\n",
            " mean=0.9655, std=0.002731 using {'init_mode': 'normal'}\n",
            " mean=0.1124, std=0.002416 using {'init_mode': 'zero'}\n",
            " mean=0.9677, std=0.0003091 using {'init_mode': 'glorot_normal'}\n",
            " mean=0.9687, std=0.001491 using {'init_mode': 'glorot_uniform'}\n",
            " mean=0.9688, std=0.0006408 using {'init_mode': 'he_normal'}\n",
            " mean=0.9678, std=0.001683 using {'init_mode': 'he_uniform'}\n"
          ]
        }
      ],
      "source": [
        "# print results\n",
        "print(f'Best Accuracy for {grid_result.best_score_} using {grid_result.best_params_}')\n",
        "means = grid_result.cv_results_['mean_test_score']\n",
        "stds = grid_result.cv_results_['std_test_score']\n",
        "params = grid_result.cv_results_['params']\n",
        "for mean, stdev, param in zip(means, stds, params):\n",
        "    print(f' mean={mean:.4}, std={stdev:.4} using {param}')"
      ]
    },
    {
      "cell_type": "markdown",
      "metadata": {
        "id": "Cia-oIlqX1Gt"
      },
      "source": [
        "### Save Your Neural Network Model to JSON"
      ]
    },
    {
      "cell_type": "markdown",
      "metadata": {
        "id": "Fvh-gY7OX1Gt"
      },
      "source": [
        "The Hierarchical Data Format (HDF5) is a data storage format for storing large arrays of data including values for the weights in a neural network.\n",
        "You can install HDF5 Python module: pip install h5py"
      ]
    },
    {
      "cell_type": "markdown",
      "metadata": {
        "id": "eaIBYmObX1Gt"
      },
      "source": [
        "Keras gives you the ability to describe and save any model using the JSON format."
      ]
    },
    {
      "cell_type": "code",
      "execution_count": 40,
      "metadata": {
        "colab": {
          "base_uri": "https://localhost:8080/"
        },
        "id": "1eKzi0pQX1Gt",
        "outputId": "0d3fbdcf-3b7f-48de-82e5-ff86e2005bf7"
      },
      "outputs": [
        {
          "name": "stdout",
          "output_type": "stream",
          "text": [
            "Model saved\n",
            "Model loaded\n"
          ]
        }
      ],
      "source": [
        "from keras.models import model_from_json\n",
        "\n",
        "# serialize model to JSON\n",
        "model_json = model.to_json()\n",
        "\n",
        "with open(\"model.json\", \"w\") as json_file:\n",
        "    json_file.write(model_json)\n",
        "\n",
        "# save weights to HDF5\n",
        "model.save_weights(\"model.h5\")\n",
        "print(\"Model saved\")\n",
        "\n",
        "# when you want to retrieve the model: load json and create model\n",
        "json_file = open('model.json', 'r')\n",
        "saved_model = json_file.read()\n",
        "# close the file as good practice\n",
        "json_file.close()\n",
        "model_from_json = model_from_json(saved_model)\n",
        "# load weights into new model\n",
        "model_from_json.load_weights(\"model.h5\")\n",
        "print(\"Model loaded\")"
      ]
    },
    {
      "cell_type": "markdown",
      "metadata": {
        "id": "Y0uzK3t_X1Gt"
      },
      "source": [
        "### Cross-validation with more than one hyperparameters"
      ]
    },
    {
      "cell_type": "markdown",
      "metadata": {
        "id": "oPBr2yJTX1Gt"
      },
      "source": [
        "We can do cross-validation with more than one parameters simultaneously, effectively trying out combinations of them.  \n",
        "\n",
        "**Note: Cross-validation in neural networks is computationally expensive**. Think before you experiment! Multiply the number of features you are validating on to see how many combinations there are. Each combination is evaluated using the cv-fold cross-validation (cv is a parameter we choose).\n",
        "\n",
        "For example, we can choose to search for different values of:\n",
        "\n",
        "- batch size,\n",
        "- number of epochs and\n",
        "- initialization mode.\n",
        "\n",
        "The choices are specified into a dictionary and passed to GridSearchCV.\n",
        "\n",
        "We will perform a GridSearch for `batch size`, `number of epochs` and `initializer` combined."
      ]
    },
    {
      "cell_type": "code",
      "execution_count": 41,
      "metadata": {
        "id": "i_Me_STjX1Gt"
      },
      "outputs": [],
      "source": [
        "# repeat some of the initial values here so we make sure they were not changed\n",
        "input_dim = x_train.shape[1]\n",
        "num_classes = 10\n",
        "\n",
        "# let's create a function that creates the model (required for KerasClassifier)\n",
        "# while accepting the hyperparameters we want to tune\n",
        "# we also pass some default values such as optimizer='rmsprop'\n",
        "def create_model_2(optimizer='rmsprop',  init='glorot_uniform'):\n",
        "    model = Sequential()\n",
        "    model.add(Dense(64, input_dim=input_dim, kernel_initializer=init, activation='relu'))\n",
        "    model.add(Dropout(0.1))\n",
        "    model.add(Dense(64, kernel_initializer=init, activation=tf.nn.relu))\n",
        "    model.add(Dense(num_classes, kernel_initializer=init, activation=tf.nn.softmax))\n",
        "\n",
        "    # compile model\n",
        "    model.compile(loss='categorical_crossentropy',\n",
        "                  optimizer=optimizer,\n",
        "                  metrics=['accuracy'])\n",
        "\n",
        "    return model"
      ]
    },
    {
      "cell_type": "code",
      "execution_count": 42,
      "metadata": {
        "colab": {
          "base_uri": "https://localhost:8080/"
        },
        "id": "zwnZWRR0X1Gt",
        "outputId": "14b69edc-decb-4cbd-e90f-257040dd4701"
      },
      "outputs": [
        {
          "name": "stderr",
          "output_type": "stream",
          "text": [
            "<ipython-input-42-316c8a0df2ec>:8: DeprecationWarning: KerasClassifier is deprecated, use Sci-Keras (https://github.com/adriangb/scikeras) instead. See https://www.adriangb.com/scikeras/stable/migration.html for help migrating.\n",
            "  model_init_batch_epoch_CV = KerasClassifier(build_fn=create_model_2, verbose=1)\n"
          ]
        },
        {
          "name": "stdout",
          "output_type": "stream",
          "text": [
            "Epoch 1/10\n",
            "313/313 [==============================] - 2s 4ms/step - loss: 0.4897 - accuracy: 0.8608\n",
            "Epoch 2/10\n",
            "313/313 [==============================] - 1s 5ms/step - loss: 0.2375 - accuracy: 0.9291\n",
            "Epoch 3/10\n",
            "313/313 [==============================] - 2s 5ms/step - loss: 0.1807 - accuracy: 0.9456\n",
            "Epoch 4/10\n",
            "313/313 [==============================] - 2s 5ms/step - loss: 0.1503 - accuracy: 0.9546\n",
            "Epoch 5/10\n",
            "313/313 [==============================] - 1s 4ms/step - loss: 0.1303 - accuracy: 0.9608\n",
            "Epoch 6/10\n",
            "313/313 [==============================] - 1s 4ms/step - loss: 0.1137 - accuracy: 0.9658\n",
            "Epoch 7/10\n",
            "313/313 [==============================] - 1s 4ms/step - loss: 0.1006 - accuracy: 0.9689\n",
            "Epoch 8/10\n",
            "313/313 [==============================] - 1s 4ms/step - loss: 0.0904 - accuracy: 0.9722\n",
            "Epoch 9/10\n",
            "313/313 [==============================] - 1s 4ms/step - loss: 0.0827 - accuracy: 0.9743\n",
            "Epoch 10/10\n",
            "313/313 [==============================] - 1s 4ms/step - loss: 0.0751 - accuracy: 0.9765\n",
            "157/157 [==============================] - 1s 3ms/step - loss: 0.1050 - accuracy: 0.9693\n",
            "Epoch 1/10\n",
            "313/313 [==============================] - 2s 4ms/step - loss: 0.4927 - accuracy: 0.8592\n",
            "Epoch 2/10\n",
            "313/313 [==============================] - 2s 5ms/step - loss: 0.2305 - accuracy: 0.9319\n",
            "Epoch 3/10\n",
            "313/313 [==============================] - 2s 5ms/step - loss: 0.1751 - accuracy: 0.9481\n",
            "Epoch 4/10\n",
            "313/313 [==============================] - 2s 5ms/step - loss: 0.1432 - accuracy: 0.9573\n",
            "Epoch 5/10\n",
            "313/313 [==============================] - 1s 4ms/step - loss: 0.1231 - accuracy: 0.9638\n",
            "Epoch 6/10\n",
            "313/313 [==============================] - 1s 4ms/step - loss: 0.1092 - accuracy: 0.9664\n",
            "Epoch 7/10\n",
            "313/313 [==============================] - 1s 4ms/step - loss: 0.0978 - accuracy: 0.9691\n",
            "Epoch 8/10\n",
            "313/313 [==============================] - 1s 4ms/step - loss: 0.0874 - accuracy: 0.9730\n",
            "Epoch 9/10\n",
            "313/313 [==============================] - 1s 4ms/step - loss: 0.0810 - accuracy: 0.9743\n",
            "Epoch 10/10\n",
            "313/313 [==============================] - 1s 4ms/step - loss: 0.0745 - accuracy: 0.9774\n",
            "157/157 [==============================] - 1s 3ms/step - loss: 0.1098 - accuracy: 0.9679\n",
            "Epoch 1/10\n",
            "313/313 [==============================] - 2s 4ms/step - loss: 0.5001 - accuracy: 0.8580\n",
            "Epoch 2/10\n",
            "313/313 [==============================] - 2s 5ms/step - loss: 0.2279 - accuracy: 0.9322\n",
            "Epoch 3/10\n",
            "313/313 [==============================] - 2s 5ms/step - loss: 0.1720 - accuracy: 0.9493\n",
            "Epoch 4/10\n",
            "313/313 [==============================] - 2s 5ms/step - loss: 0.1411 - accuracy: 0.9571\n",
            "Epoch 5/10\n",
            "313/313 [==============================] - 1s 4ms/step - loss: 0.1196 - accuracy: 0.9633\n",
            "Epoch 6/10\n",
            "313/313 [==============================] - 1s 4ms/step - loss: 0.1056 - accuracy: 0.9678\n",
            "Epoch 7/10\n",
            "313/313 [==============================] - 1s 4ms/step - loss: 0.0938 - accuracy: 0.9712\n",
            "Epoch 8/10\n",
            "313/313 [==============================] - 1s 4ms/step - loss: 0.0849 - accuracy: 0.9739\n",
            "Epoch 9/10\n",
            "313/313 [==============================] - 1s 4ms/step - loss: 0.0785 - accuracy: 0.9755\n",
            "Epoch 10/10\n",
            "313/313 [==============================] - 1s 4ms/step - loss: 0.0730 - accuracy: 0.9771\n",
            "157/157 [==============================] - 1s 3ms/step - loss: 0.1088 - accuracy: 0.9688\n",
            "Epoch 1/10\n",
            "313/313 [==============================] - 2s 4ms/step - loss: 0.7184 - accuracy: 0.7874\n",
            "Epoch 2/10\n",
            "313/313 [==============================] - 1s 4ms/step - loss: 0.3269 - accuracy: 0.9034\n",
            "Epoch 3/10\n",
            "313/313 [==============================] - 1s 4ms/step - loss: 0.2450 - accuracy: 0.9287\n",
            "Epoch 4/10\n",
            "313/313 [==============================] - 1s 4ms/step - loss: 0.1963 - accuracy: 0.9414\n",
            "Epoch 5/10\n",
            "313/313 [==============================] - 1s 4ms/step - loss: 0.1676 - accuracy: 0.9492\n",
            "Epoch 6/10\n",
            "313/313 [==============================] - 2s 5ms/step - loss: 0.1445 - accuracy: 0.9566\n",
            "Epoch 7/10\n",
            "313/313 [==============================] - 2s 5ms/step - loss: 0.1290 - accuracy: 0.9612\n",
            "Epoch 8/10\n",
            "313/313 [==============================] - 2s 5ms/step - loss: 0.1162 - accuracy: 0.9645\n",
            "Epoch 9/10\n",
            "313/313 [==============================] - 1s 4ms/step - loss: 0.1055 - accuracy: 0.9679\n",
            "Epoch 10/10\n",
            "313/313 [==============================] - 1s 4ms/step - loss: 0.0951 - accuracy: 0.9710\n",
            "157/157 [==============================] - 1s 3ms/step - loss: 0.1147 - accuracy: 0.9668\n",
            "Epoch 1/10\n",
            "313/313 [==============================] - 2s 4ms/step - loss: 0.7377 - accuracy: 0.7702\n",
            "Epoch 2/10\n",
            "313/313 [==============================] - 1s 4ms/step - loss: 0.3171 - accuracy: 0.9083\n",
            "Epoch 3/10\n",
            "313/313 [==============================] - 1s 4ms/step - loss: 0.2340 - accuracy: 0.9316\n",
            "Epoch 4/10\n",
            "313/313 [==============================] - 1s 4ms/step - loss: 0.1824 - accuracy: 0.9460\n",
            "Epoch 5/10\n",
            "313/313 [==============================] - 1s 4ms/step - loss: 0.1532 - accuracy: 0.9549\n",
            "Epoch 6/10\n",
            "313/313 [==============================] - 2s 5ms/step - loss: 0.1328 - accuracy: 0.9607\n",
            "Epoch 7/10\n",
            "313/313 [==============================] - 2s 5ms/step - loss: 0.1202 - accuracy: 0.9625\n",
            "Epoch 8/10\n",
            "313/313 [==============================] - 1s 5ms/step - loss: 0.1078 - accuracy: 0.9678\n",
            "Epoch 9/10\n",
            "313/313 [==============================] - 1s 4ms/step - loss: 0.0957 - accuracy: 0.9702\n",
            "Epoch 10/10\n",
            "313/313 [==============================] - 1s 4ms/step - loss: 0.0883 - accuracy: 0.9730\n",
            "157/157 [==============================] - 1s 4ms/step - loss: 0.1185 - accuracy: 0.9662\n",
            "Epoch 1/10\n",
            "313/313 [==============================] - 3s 5ms/step - loss: 0.7478 - accuracy: 0.7771\n",
            "Epoch 2/10\n",
            "313/313 [==============================] - 1s 4ms/step - loss: 0.3295 - accuracy: 0.9050\n",
            "Epoch 3/10\n",
            "313/313 [==============================] - 1s 4ms/step - loss: 0.2404 - accuracy: 0.9287\n",
            "Epoch 4/10\n",
            "313/313 [==============================] - 1s 4ms/step - loss: 0.1947 - accuracy: 0.9428\n",
            "Epoch 5/10\n",
            "313/313 [==============================] - 1s 4ms/step - loss: 0.1654 - accuracy: 0.9509\n",
            "Epoch 6/10\n",
            "313/313 [==============================] - 1s 4ms/step - loss: 0.1437 - accuracy: 0.9570\n",
            "Epoch 7/10\n",
            "313/313 [==============================] - 1s 4ms/step - loss: 0.1266 - accuracy: 0.9618\n",
            "Epoch 8/10\n",
            "313/313 [==============================] - 1s 4ms/step - loss: 0.1144 - accuracy: 0.9656\n",
            "Epoch 9/10\n",
            "313/313 [==============================] - 1s 4ms/step - loss: 0.1055 - accuracy: 0.9681\n",
            "Epoch 10/10\n",
            "313/313 [==============================] - 2s 5ms/step - loss: 0.0941 - accuracy: 0.9721\n",
            "157/157 [==============================] - 1s 4ms/step - loss: 0.1326 - accuracy: 0.9625\n",
            "Epoch 1/20\n",
            "313/313 [==============================] - 2s 4ms/step - loss: 0.4981 - accuracy: 0.8572\n",
            "Epoch 2/20\n",
            "313/313 [==============================] - 1s 4ms/step - loss: 0.2371 - accuracy: 0.9305\n",
            "Epoch 3/20\n",
            "313/313 [==============================] - 1s 4ms/step - loss: 0.1796 - accuracy: 0.9465\n",
            "Epoch 4/20\n",
            "313/313 [==============================] - 1s 4ms/step - loss: 0.1498 - accuracy: 0.9566\n",
            "Epoch 5/20\n",
            "313/313 [==============================] - 1s 4ms/step - loss: 0.1282 - accuracy: 0.9612\n",
            "Epoch 6/20\n",
            "313/313 [==============================] - 1s 4ms/step - loss: 0.1176 - accuracy: 0.9649\n",
            "Epoch 7/20\n",
            "313/313 [==============================] - 1s 4ms/step - loss: 0.1052 - accuracy: 0.9673\n",
            "Epoch 8/20\n",
            "313/313 [==============================] - 1s 4ms/step - loss: 0.0954 - accuracy: 0.9711\n",
            "Epoch 9/20\n",
            "313/313 [==============================] - 2s 5ms/step - loss: 0.0873 - accuracy: 0.9736\n",
            "Epoch 10/20\n",
            "313/313 [==============================] - 2s 5ms/step - loss: 0.0798 - accuracy: 0.9762\n",
            "Epoch 11/20\n",
            "313/313 [==============================] - 2s 5ms/step - loss: 0.0742 - accuracy: 0.9769\n",
            "Epoch 12/20\n",
            "313/313 [==============================] - 1s 4ms/step - loss: 0.0698 - accuracy: 0.9777\n",
            "Epoch 13/20\n",
            "313/313 [==============================] - 1s 4ms/step - loss: 0.0663 - accuracy: 0.9796\n",
            "Epoch 14/20\n",
            "313/313 [==============================] - 1s 4ms/step - loss: 0.0616 - accuracy: 0.9807\n",
            "Epoch 15/20\n",
            "313/313 [==============================] - 1s 5ms/step - loss: 0.0580 - accuracy: 0.9817\n",
            "Epoch 16/20\n",
            "313/313 [==============================] - 1s 5ms/step - loss: 0.0561 - accuracy: 0.9820\n",
            "Epoch 17/20\n",
            "313/313 [==============================] - 1s 4ms/step - loss: 0.0535 - accuracy: 0.9836\n",
            "Epoch 18/20\n",
            "313/313 [==============================] - 1s 4ms/step - loss: 0.0497 - accuracy: 0.9841\n",
            "Epoch 19/20\n",
            "313/313 [==============================] - 1s 4ms/step - loss: 0.0492 - accuracy: 0.9842\n",
            "Epoch 20/20\n",
            "313/313 [==============================] - 2s 6ms/step - loss: 0.0444 - accuracy: 0.9857\n",
            "157/157 [==============================] - 1s 6ms/step - loss: 0.1040 - accuracy: 0.9737\n",
            "Epoch 1/20\n",
            "313/313 [==============================] - 2s 4ms/step - loss: 0.4747 - accuracy: 0.8628\n",
            "Epoch 2/20\n",
            "313/313 [==============================] - 1s 4ms/step - loss: 0.2286 - accuracy: 0.9320\n",
            "Epoch 3/20\n",
            "313/313 [==============================] - 1s 4ms/step - loss: 0.1726 - accuracy: 0.9484\n",
            "Epoch 4/20\n",
            "313/313 [==============================] - 1s 4ms/step - loss: 0.1396 - accuracy: 0.9578\n",
            "Epoch 5/20\n",
            "313/313 [==============================] - 1s 4ms/step - loss: 0.1176 - accuracy: 0.9653\n",
            "Epoch 6/20\n",
            "313/313 [==============================] - 1s 4ms/step - loss: 0.1043 - accuracy: 0.9678\n",
            "Epoch 7/20\n",
            "313/313 [==============================] - 1s 4ms/step - loss: 0.0941 - accuracy: 0.9704\n",
            "Epoch 8/20\n",
            "313/313 [==============================] - 1s 5ms/step - loss: 0.0831 - accuracy: 0.9747\n",
            "Epoch 9/20\n",
            "313/313 [==============================] - 2s 5ms/step - loss: 0.0785 - accuracy: 0.9755\n",
            "Epoch 10/20\n",
            "313/313 [==============================] - 2s 5ms/step - loss: 0.0710 - accuracy: 0.9772\n",
            "Epoch 11/20\n",
            "313/313 [==============================] - 1s 4ms/step - loss: 0.0672 - accuracy: 0.9780\n",
            "Epoch 12/20\n",
            "313/313 [==============================] - 1s 4ms/step - loss: 0.0612 - accuracy: 0.9799\n",
            "Epoch 13/20\n",
            "313/313 [==============================] - 1s 4ms/step - loss: 0.0577 - accuracy: 0.9812\n",
            "Epoch 14/20\n",
            "313/313 [==============================] - 1s 4ms/step - loss: 0.0555 - accuracy: 0.9821\n",
            "Epoch 15/20\n",
            "313/313 [==============================] - 1s 4ms/step - loss: 0.0524 - accuracy: 0.9832\n",
            "Epoch 16/20\n",
            "313/313 [==============================] - 1s 4ms/step - loss: 0.0502 - accuracy: 0.9832\n",
            "Epoch 17/20\n",
            "313/313 [==============================] - 1s 4ms/step - loss: 0.0456 - accuracy: 0.9854\n",
            "Epoch 18/20\n",
            "313/313 [==============================] - 1s 4ms/step - loss: 0.0446 - accuracy: 0.9849\n",
            "Epoch 19/20\n",
            "313/313 [==============================] - 1s 4ms/step - loss: 0.0428 - accuracy: 0.9862\n",
            "Epoch 20/20\n",
            "313/313 [==============================] - 2s 5ms/step - loss: 0.0411 - accuracy: 0.9867\n",
            "157/157 [==============================] - 1s 3ms/step - loss: 0.1162 - accuracy: 0.9706\n",
            "Epoch 1/20\n",
            "313/313 [==============================] - 2s 4ms/step - loss: 0.4954 - accuracy: 0.8592\n",
            "Epoch 2/20\n",
            "313/313 [==============================] - 1s 4ms/step - loss: 0.2260 - accuracy: 0.9330\n",
            "Epoch 3/20\n",
            "313/313 [==============================] - 1s 4ms/step - loss: 0.1703 - accuracy: 0.9492\n",
            "Epoch 4/20\n",
            "313/313 [==============================] - 1s 4ms/step - loss: 0.1391 - accuracy: 0.9574\n",
            "Epoch 5/20\n",
            "313/313 [==============================] - 1s 4ms/step - loss: 0.1183 - accuracy: 0.9631\n",
            "Epoch 6/20\n",
            "313/313 [==============================] - 1s 5ms/step - loss: 0.1055 - accuracy: 0.9672\n",
            "Epoch 7/20\n",
            "313/313 [==============================] - 2s 5ms/step - loss: 0.0932 - accuracy: 0.9714\n",
            "Epoch 8/20\n",
            "313/313 [==============================] - 2s 5ms/step - loss: 0.0867 - accuracy: 0.9734\n",
            "Epoch 9/20\n",
            "313/313 [==============================] - 1s 4ms/step - loss: 0.0784 - accuracy: 0.9760\n",
            "Epoch 10/20\n",
            "313/313 [==============================] - 1s 4ms/step - loss: 0.0719 - accuracy: 0.9776\n",
            "Epoch 11/20\n",
            "313/313 [==============================] - 1s 4ms/step - loss: 0.0673 - accuracy: 0.9793\n",
            "Epoch 12/20\n",
            "313/313 [==============================] - 1s 4ms/step - loss: 0.0610 - accuracy: 0.9800\n",
            "Epoch 13/20\n",
            "313/313 [==============================] - 1s 4ms/step - loss: 0.0608 - accuracy: 0.9804\n",
            "Epoch 14/20\n",
            "313/313 [==============================] - 1s 4ms/step - loss: 0.0574 - accuracy: 0.9812\n",
            "Epoch 15/20\n",
            "313/313 [==============================] - 1s 4ms/step - loss: 0.0526 - accuracy: 0.9830\n",
            "Epoch 16/20\n",
            "313/313 [==============================] - 1s 4ms/step - loss: 0.0487 - accuracy: 0.9844\n",
            "Epoch 17/20\n",
            "313/313 [==============================] - 2s 5ms/step - loss: 0.0476 - accuracy: 0.9841\n",
            "Epoch 18/20\n",
            "313/313 [==============================] - 2s 5ms/step - loss: 0.0462 - accuracy: 0.9850\n",
            "Epoch 19/20\n",
            "313/313 [==============================] - 2s 5ms/step - loss: 0.0430 - accuracy: 0.9860\n",
            "Epoch 20/20\n",
            "313/313 [==============================] - 1s 4ms/step - loss: 0.0404 - accuracy: 0.9875\n",
            "157/157 [==============================] - 1s 3ms/step - loss: 0.1140 - accuracy: 0.9714\n",
            "Epoch 1/20\n",
            "313/313 [==============================] - 2s 4ms/step - loss: 0.7424 - accuracy: 0.7834\n",
            "Epoch 2/20\n",
            "313/313 [==============================] - 1s 4ms/step - loss: 0.3217 - accuracy: 0.9050\n",
            "Epoch 3/20\n",
            "313/313 [==============================] - 1s 4ms/step - loss: 0.2399 - accuracy: 0.9299\n",
            "Epoch 4/20\n",
            "313/313 [==============================] - 1s 4ms/step - loss: 0.1932 - accuracy: 0.9429\n",
            "Epoch 5/20\n",
            "313/313 [==============================] - 1s 4ms/step - loss: 0.1600 - accuracy: 0.9514\n",
            "Epoch 6/20\n",
            "313/313 [==============================] - 1s 4ms/step - loss: 0.1392 - accuracy: 0.9575\n",
            "Epoch 7/20\n",
            "313/313 [==============================] - 2s 5ms/step - loss: 0.1246 - accuracy: 0.9611\n",
            "Epoch 8/20\n",
            "313/313 [==============================] - 2s 5ms/step - loss: 0.1117 - accuracy: 0.9658\n",
            "Epoch 9/20\n",
            "313/313 [==============================] - 1s 4ms/step - loss: 0.1001 - accuracy: 0.9698\n",
            "Epoch 10/20\n",
            "313/313 [==============================] - 1s 4ms/step - loss: 0.0927 - accuracy: 0.9717\n",
            "Epoch 11/20\n",
            "313/313 [==============================] - 1s 4ms/step - loss: 0.0854 - accuracy: 0.9733\n",
            "Epoch 12/20\n",
            "313/313 [==============================] - 1s 4ms/step - loss: 0.0798 - accuracy: 0.9755\n",
            "Epoch 13/20\n",
            "313/313 [==============================] - 1s 4ms/step - loss: 0.0772 - accuracy: 0.9766\n",
            "Epoch 14/20\n",
            "313/313 [==============================] - 1s 4ms/step - loss: 0.0718 - accuracy: 0.9776\n",
            "Epoch 15/20\n",
            "313/313 [==============================] - 1s 4ms/step - loss: 0.0671 - accuracy: 0.9786\n",
            "Epoch 16/20\n",
            "313/313 [==============================] - 1s 4ms/step - loss: 0.0639 - accuracy: 0.9796\n",
            "Epoch 17/20\n",
            "313/313 [==============================] - 1s 5ms/step - loss: 0.0600 - accuracy: 0.9808\n",
            "Epoch 18/20\n",
            "313/313 [==============================] - 2s 5ms/step - loss: 0.0575 - accuracy: 0.9817\n",
            "Epoch 19/20\n",
            "313/313 [==============================] - 2s 5ms/step - loss: 0.0534 - accuracy: 0.9822\n",
            "Epoch 20/20\n",
            "313/313 [==============================] - 1s 4ms/step - loss: 0.0516 - accuracy: 0.9833\n",
            "157/157 [==============================] - 1s 3ms/step - loss: 0.0985 - accuracy: 0.9744\n",
            "Epoch 1/20\n",
            "313/313 [==============================] - 2s 4ms/step - loss: 0.7311 - accuracy: 0.7860\n",
            "Epoch 2/20\n",
            "313/313 [==============================] - 1s 4ms/step - loss: 0.3236 - accuracy: 0.9043\n",
            "Epoch 3/20\n",
            "313/313 [==============================] - 1s 4ms/step - loss: 0.2443 - accuracy: 0.9271\n",
            "Epoch 4/20\n",
            "313/313 [==============================] - 1s 4ms/step - loss: 0.1944 - accuracy: 0.9423\n",
            "Epoch 5/20\n",
            "313/313 [==============================] - 2s 5ms/step - loss: 0.1628 - accuracy: 0.9520\n",
            "Epoch 6/20\n",
            "313/313 [==============================] - 2s 5ms/step - loss: 0.1419 - accuracy: 0.9567\n",
            "Epoch 7/20\n",
            "313/313 [==============================] - 2s 5ms/step - loss: 0.1268 - accuracy: 0.9617\n",
            "Epoch 8/20\n",
            "313/313 [==============================] - 1s 4ms/step - loss: 0.1136 - accuracy: 0.9661\n",
            "Epoch 9/20\n",
            "313/313 [==============================] - 1s 4ms/step - loss: 0.1039 - accuracy: 0.9686\n",
            "Epoch 10/20\n",
            "313/313 [==============================] - 1s 4ms/step - loss: 0.0960 - accuracy: 0.9703\n",
            "Epoch 11/20\n",
            "313/313 [==============================] - 1s 4ms/step - loss: 0.0884 - accuracy: 0.9736\n",
            "Epoch 12/20\n",
            "313/313 [==============================] - 1s 4ms/step - loss: 0.0841 - accuracy: 0.9739\n",
            "Epoch 13/20\n",
            "313/313 [==============================] - 1s 4ms/step - loss: 0.0768 - accuracy: 0.9765\n",
            "Epoch 14/20\n",
            "313/313 [==============================] - 1s 4ms/step - loss: 0.0744 - accuracy: 0.9774\n",
            "Epoch 15/20\n",
            "313/313 [==============================] - 1s 4ms/step - loss: 0.0703 - accuracy: 0.9786\n",
            "Epoch 16/20\n",
            "313/313 [==============================] - 2s 5ms/step - loss: 0.0670 - accuracy: 0.9795\n",
            "Epoch 17/20\n",
            "313/313 [==============================] - 2s 5ms/step - loss: 0.0614 - accuracy: 0.9809\n",
            "Epoch 18/20\n",
            "313/313 [==============================] - 2s 5ms/step - loss: 0.0599 - accuracy: 0.9809\n",
            "Epoch 19/20\n",
            "313/313 [==============================] - 1s 4ms/step - loss: 0.0547 - accuracy: 0.9822\n",
            "Epoch 20/20\n",
            "313/313 [==============================] - 1s 4ms/step - loss: 0.0524 - accuracy: 0.9832\n",
            "157/157 [==============================] - 1s 3ms/step - loss: 0.1302 - accuracy: 0.9683\n",
            "Epoch 1/20\n",
            "313/313 [==============================] - 2s 4ms/step - loss: 0.7484 - accuracy: 0.7785\n",
            "Epoch 2/20\n",
            "313/313 [==============================] - 1s 4ms/step - loss: 0.3332 - accuracy: 0.9024\n",
            "Epoch 3/20\n",
            "313/313 [==============================] - 1s 4ms/step - loss: 0.2501 - accuracy: 0.9265\n",
            "Epoch 4/20\n",
            "313/313 [==============================] - 2s 5ms/step - loss: 0.2021 - accuracy: 0.9407\n",
            "Epoch 5/20\n",
            "313/313 [==============================] - 2s 5ms/step - loss: 0.1703 - accuracy: 0.9503\n",
            "Epoch 6/20\n",
            "313/313 [==============================] - 2s 5ms/step - loss: 0.1477 - accuracy: 0.9557\n",
            "Epoch 7/20\n",
            "313/313 [==============================] - 1s 4ms/step - loss: 0.1301 - accuracy: 0.9611\n",
            "Epoch 8/20\n",
            "313/313 [==============================] - 1s 4ms/step - loss: 0.1178 - accuracy: 0.9650\n",
            "Epoch 9/20\n",
            "313/313 [==============================] - 1s 4ms/step - loss: 0.1060 - accuracy: 0.9680\n",
            "Epoch 10/20\n",
            "313/313 [==============================] - 1s 4ms/step - loss: 0.0958 - accuracy: 0.9707\n",
            "Epoch 11/20\n",
            "313/313 [==============================] - 1s 4ms/step - loss: 0.0874 - accuracy: 0.9729\n",
            "Epoch 12/20\n",
            "313/313 [==============================] - 1s 4ms/step - loss: 0.0804 - accuracy: 0.9755\n",
            "Epoch 13/20\n",
            "313/313 [==============================] - 1s 4ms/step - loss: 0.0757 - accuracy: 0.9769\n",
            "Epoch 14/20\n",
            "313/313 [==============================] - 1s 4ms/step - loss: 0.0733 - accuracy: 0.9768\n",
            "Epoch 15/20\n",
            "313/313 [==============================] - 2s 5ms/step - loss: 0.0651 - accuracy: 0.9801\n",
            "Epoch 16/20\n",
            "313/313 [==============================] - 2s 5ms/step - loss: 0.0610 - accuracy: 0.9801\n",
            "Epoch 17/20\n",
            "313/313 [==============================] - 2s 5ms/step - loss: 0.0588 - accuracy: 0.9816\n",
            "Epoch 18/20\n",
            "313/313 [==============================] - 1s 4ms/step - loss: 0.0574 - accuracy: 0.9817\n",
            "Epoch 19/20\n",
            "313/313 [==============================] - 1s 4ms/step - loss: 0.0535 - accuracy: 0.9832\n",
            "Epoch 20/20\n",
            "313/313 [==============================] - 1s 4ms/step - loss: 0.0497 - accuracy: 0.9846\n",
            "157/157 [==============================] - 1s 3ms/step - loss: 0.1098 - accuracy: 0.9721\n",
            "Epoch 1/10\n",
            "79/79 [==============================] - 1s 5ms/step - loss: 0.7861 - accuracy: 0.7843\n",
            "Epoch 2/10\n",
            "79/79 [==============================] - 0s 4ms/step - loss: 0.3448 - accuracy: 0.8993\n",
            "Epoch 3/10\n",
            "79/79 [==============================] - 0s 4ms/step - loss: 0.2700 - accuracy: 0.9201\n",
            "Epoch 4/10\n",
            "79/79 [==============================] - 0s 4ms/step - loss: 0.2299 - accuracy: 0.9320\n",
            "Epoch 5/10\n",
            "79/79 [==============================] - 0s 4ms/step - loss: 0.2003 - accuracy: 0.9404\n",
            "Epoch 6/10\n",
            "79/79 [==============================] - 0s 4ms/step - loss: 0.1778 - accuracy: 0.9478\n",
            "Epoch 7/10\n",
            "79/79 [==============================] - 0s 6ms/step - loss: 0.1617 - accuracy: 0.9522\n",
            "Epoch 8/10\n",
            "79/79 [==============================] - 0s 6ms/step - loss: 0.1465 - accuracy: 0.9550\n",
            "Epoch 9/10\n",
            "79/79 [==============================] - 0s 6ms/step - loss: 0.1341 - accuracy: 0.9599\n",
            "Epoch 10/10\n",
            "79/79 [==============================] - 0s 6ms/step - loss: 0.1237 - accuracy: 0.9626\n",
            "40/40 [==============================] - 0s 5ms/step - loss: 0.1308 - accuracy: 0.9611\n",
            "Epoch 1/10\n",
            "79/79 [==============================] - 1s 4ms/step - loss: 0.7531 - accuracy: 0.7940\n",
            "Epoch 2/10\n",
            "79/79 [==============================] - 0s 4ms/step - loss: 0.3340 - accuracy: 0.9036\n",
            "Epoch 3/10\n",
            "79/79 [==============================] - 0s 4ms/step - loss: 0.2629 - accuracy: 0.9232\n",
            "Epoch 4/10\n",
            "79/79 [==============================] - 0s 4ms/step - loss: 0.2216 - accuracy: 0.9363\n",
            "Epoch 5/10\n",
            "79/79 [==============================] - 0s 4ms/step - loss: 0.1926 - accuracy: 0.9426\n",
            "Epoch 6/10\n",
            "79/79 [==============================] - 0s 4ms/step - loss: 0.1701 - accuracy: 0.9505\n",
            "Epoch 7/10\n",
            "79/79 [==============================] - 0s 4ms/step - loss: 0.1502 - accuracy: 0.9546\n",
            "Epoch 8/10\n",
            "79/79 [==============================] - 0s 4ms/step - loss: 0.1374 - accuracy: 0.9592\n",
            "Epoch 9/10\n",
            "79/79 [==============================] - 0s 4ms/step - loss: 0.1258 - accuracy: 0.9621\n",
            "Epoch 10/10\n",
            "79/79 [==============================] - 0s 4ms/step - loss: 0.1167 - accuracy: 0.9644\n",
            "40/40 [==============================] - 0s 4ms/step - loss: 0.1497 - accuracy: 0.9545\n",
            "Epoch 1/10\n",
            "79/79 [==============================] - 1s 4ms/step - loss: 0.7897 - accuracy: 0.7891\n",
            "Epoch 2/10\n",
            "79/79 [==============================] - 0s 4ms/step - loss: 0.3482 - accuracy: 0.8984\n",
            "Epoch 3/10\n",
            "79/79 [==============================] - 0s 4ms/step - loss: 0.2747 - accuracy: 0.9197\n",
            "Epoch 4/10\n",
            "79/79 [==============================] - 0s 4ms/step - loss: 0.2311 - accuracy: 0.9327\n",
            "Epoch 5/10\n",
            "79/79 [==============================] - 0s 4ms/step - loss: 0.1989 - accuracy: 0.9415\n",
            "Epoch 6/10\n",
            "79/79 [==============================] - 0s 4ms/step - loss: 0.1771 - accuracy: 0.9476\n",
            "Epoch 7/10\n",
            "79/79 [==============================] - 0s 4ms/step - loss: 0.1604 - accuracy: 0.9520\n",
            "Epoch 8/10\n",
            "79/79 [==============================] - 0s 4ms/step - loss: 0.1447 - accuracy: 0.9561\n",
            "Epoch 9/10\n",
            "79/79 [==============================] - 0s 4ms/step - loss: 0.1359 - accuracy: 0.9595\n",
            "Epoch 10/10\n",
            "79/79 [==============================] - 0s 4ms/step - loss: 0.1240 - accuracy: 0.9623\n",
            "40/40 [==============================] - 0s 4ms/step - loss: 0.1397 - accuracy: 0.9579\n",
            "Epoch 1/10\n",
            "79/79 [==============================] - 1s 4ms/step - loss: 1.2742 - accuracy: 0.6556\n",
            "Epoch 2/10\n",
            "79/79 [==============================] - 0s 4ms/step - loss: 0.5236 - accuracy: 0.8440\n",
            "Epoch 3/10\n",
            "79/79 [==============================] - 0s 4ms/step - loss: 0.3982 - accuracy: 0.8838\n",
            "Epoch 4/10\n",
            "79/79 [==============================] - 0s 5ms/step - loss: 0.3325 - accuracy: 0.9022\n",
            "Epoch 5/10\n",
            "79/79 [==============================] - 0s 4ms/step - loss: 0.2904 - accuracy: 0.9154\n",
            "Epoch 6/10\n",
            "79/79 [==============================] - 0s 5ms/step - loss: 0.2581 - accuracy: 0.9237\n",
            "Epoch 7/10\n",
            "79/79 [==============================] - 0s 4ms/step - loss: 0.2303 - accuracy: 0.9319\n",
            "Epoch 8/10\n",
            "79/79 [==============================] - 0s 4ms/step - loss: 0.2068 - accuracy: 0.9390\n",
            "Epoch 9/10\n",
            "79/79 [==============================] - 0s 4ms/step - loss: 0.1872 - accuracy: 0.9454\n",
            "Epoch 10/10\n",
            "79/79 [==============================] - 0s 4ms/step - loss: 0.1732 - accuracy: 0.9480\n",
            "40/40 [==============================] - 0s 3ms/step - loss: 0.1702 - accuracy: 0.9498\n",
            "Epoch 1/10\n",
            "79/79 [==============================] - 1s 4ms/step - loss: 1.2630 - accuracy: 0.6589\n",
            "Epoch 2/10\n",
            "79/79 [==============================] - 0s 5ms/step - loss: 0.5243 - accuracy: 0.8469\n",
            "Epoch 3/10\n",
            "79/79 [==============================] - 0s 4ms/step - loss: 0.3911 - accuracy: 0.8872\n",
            "Epoch 4/10\n",
            "79/79 [==============================] - 0s 4ms/step - loss: 0.3323 - accuracy: 0.9022\n",
            "Epoch 5/10\n",
            "79/79 [==============================] - 0s 5ms/step - loss: 0.2910 - accuracy: 0.9137\n",
            "Epoch 6/10\n",
            "79/79 [==============================] - 0s 4ms/step - loss: 0.2568 - accuracy: 0.9238\n",
            "Epoch 7/10\n",
            "79/79 [==============================] - 0s 4ms/step - loss: 0.2272 - accuracy: 0.9331\n",
            "Epoch 8/10\n",
            "79/79 [==============================] - 0s 5ms/step - loss: 0.2033 - accuracy: 0.9409\n",
            "Epoch 9/10\n",
            "79/79 [==============================] - 0s 5ms/step - loss: 0.1831 - accuracy: 0.9459\n",
            "Epoch 10/10\n",
            "79/79 [==============================] - 0s 4ms/step - loss: 0.1684 - accuracy: 0.9509\n",
            "40/40 [==============================] - 0s 5ms/step - loss: 0.1834 - accuracy: 0.9459\n",
            "Epoch 1/10\n",
            "79/79 [==============================] - 1s 6ms/step - loss: 1.3173 - accuracy: 0.6044\n",
            "Epoch 2/10\n",
            "79/79 [==============================] - 0s 6ms/step - loss: 0.5681 - accuracy: 0.8271\n",
            "Epoch 3/10\n",
            "79/79 [==============================] - 0s 4ms/step - loss: 0.4211 - accuracy: 0.8761\n",
            "Epoch 4/10\n",
            "79/79 [==============================] - 0s 4ms/step - loss: 0.3483 - accuracy: 0.8973\n",
            "Epoch 5/10\n",
            "79/79 [==============================] - 0s 4ms/step - loss: 0.2985 - accuracy: 0.9129\n",
            "Epoch 6/10\n",
            "79/79 [==============================] - 0s 4ms/step - loss: 0.2574 - accuracy: 0.9236\n",
            "Epoch 7/10\n",
            "79/79 [==============================] - 0s 5ms/step - loss: 0.2237 - accuracy: 0.9358\n",
            "Epoch 8/10\n",
            "79/79 [==============================] - 0s 4ms/step - loss: 0.2018 - accuracy: 0.9398\n",
            "Epoch 9/10\n",
            "79/79 [==============================] - 0s 4ms/step - loss: 0.1828 - accuracy: 0.9468\n",
            "Epoch 10/10\n",
            "79/79 [==============================] - 0s 4ms/step - loss: 0.1655 - accuracy: 0.9507\n",
            "40/40 [==============================] - 0s 4ms/step - loss: 0.1799 - accuracy: 0.9473\n",
            "Epoch 1/20\n",
            "79/79 [==============================] - 1s 4ms/step - loss: 0.7488 - accuracy: 0.7988\n",
            "Epoch 2/20\n",
            "79/79 [==============================] - 0s 4ms/step - loss: 0.3336 - accuracy: 0.9005\n",
            "Epoch 3/20\n",
            "79/79 [==============================] - 0s 4ms/step - loss: 0.2657 - accuracy: 0.9209\n",
            "Epoch 4/20\n",
            "79/79 [==============================] - 0s 5ms/step - loss: 0.2217 - accuracy: 0.9341\n",
            "Epoch 5/20\n",
            "79/79 [==============================] - 0s 4ms/step - loss: 0.1939 - accuracy: 0.9423\n",
            "Epoch 6/20\n",
            "79/79 [==============================] - 0s 4ms/step - loss: 0.1730 - accuracy: 0.9489\n",
            "Epoch 7/20\n",
            "79/79 [==============================] - 0s 5ms/step - loss: 0.1572 - accuracy: 0.9527\n",
            "Epoch 8/20\n",
            "79/79 [==============================] - 0s 4ms/step - loss: 0.1417 - accuracy: 0.9580\n",
            "Epoch 9/20\n",
            "79/79 [==============================] - 0s 4ms/step - loss: 0.1313 - accuracy: 0.9604\n",
            "Epoch 10/20\n",
            "79/79 [==============================] - 0s 4ms/step - loss: 0.1207 - accuracy: 0.9637\n",
            "Epoch 11/20\n",
            "79/79 [==============================] - 0s 4ms/step - loss: 0.1129 - accuracy: 0.9661\n",
            "Epoch 12/20\n",
            "79/79 [==============================] - 0s 4ms/step - loss: 0.1073 - accuracy: 0.9671\n",
            "Epoch 13/20\n",
            "79/79 [==============================] - 0s 4ms/step - loss: 0.1002 - accuracy: 0.9688\n",
            "Epoch 14/20\n",
            "79/79 [==============================] - 0s 4ms/step - loss: 0.0956 - accuracy: 0.9701\n",
            "Epoch 15/20\n",
            "79/79 [==============================] - 0s 5ms/step - loss: 0.0913 - accuracy: 0.9715\n",
            "Epoch 16/20\n",
            "79/79 [==============================] - 0s 6ms/step - loss: 0.0848 - accuracy: 0.9741\n",
            "Epoch 17/20\n",
            "79/79 [==============================] - 0s 6ms/step - loss: 0.0817 - accuracy: 0.9743\n",
            "Epoch 18/20\n",
            "79/79 [==============================] - 0s 6ms/step - loss: 0.0785 - accuracy: 0.9751\n",
            "Epoch 19/20\n",
            "79/79 [==============================] - 0s 6ms/step - loss: 0.0716 - accuracy: 0.9780\n",
            "Epoch 20/20\n",
            "79/79 [==============================] - 0s 6ms/step - loss: 0.0682 - accuracy: 0.9787\n",
            "40/40 [==============================] - 0s 4ms/step - loss: 0.1094 - accuracy: 0.9668\n",
            "Epoch 1/20\n",
            "79/79 [==============================] - 1s 4ms/step - loss: 0.7955 - accuracy: 0.7775\n",
            "Epoch 2/20\n",
            "79/79 [==============================] - 0s 4ms/step - loss: 0.3379 - accuracy: 0.9019\n",
            "Epoch 3/20\n",
            "79/79 [==============================] - 0s 4ms/step - loss: 0.2579 - accuracy: 0.9249\n",
            "Epoch 4/20\n",
            "79/79 [==============================] - 0s 4ms/step - loss: 0.2156 - accuracy: 0.9372\n",
            "Epoch 5/20\n",
            "79/79 [==============================] - 0s 5ms/step - loss: 0.1830 - accuracy: 0.9471\n",
            "Epoch 6/20\n",
            "79/79 [==============================] - 0s 4ms/step - loss: 0.1633 - accuracy: 0.9517\n",
            "Epoch 7/20\n",
            "79/79 [==============================] - 0s 4ms/step - loss: 0.1460 - accuracy: 0.9567\n",
            "Epoch 8/20\n",
            "79/79 [==============================] - 0s 4ms/step - loss: 0.1316 - accuracy: 0.9605\n",
            "Epoch 9/20\n",
            "79/79 [==============================] - 0s 4ms/step - loss: 0.1218 - accuracy: 0.9629\n",
            "Epoch 10/20\n",
            "79/79 [==============================] - 0s 5ms/step - loss: 0.1109 - accuracy: 0.9671\n",
            "Epoch 11/20\n",
            "79/79 [==============================] - 0s 5ms/step - loss: 0.1034 - accuracy: 0.9687\n",
            "Epoch 12/20\n",
            "79/79 [==============================] - 0s 4ms/step - loss: 0.0954 - accuracy: 0.9707\n",
            "Epoch 13/20\n",
            "79/79 [==============================] - 0s 4ms/step - loss: 0.0889 - accuracy: 0.9727\n",
            "Epoch 14/20\n",
            "79/79 [==============================] - 0s 5ms/step - loss: 0.0855 - accuracy: 0.9736\n",
            "Epoch 15/20\n",
            "79/79 [==============================] - 0s 4ms/step - loss: 0.0785 - accuracy: 0.9757\n",
            "Epoch 16/20\n",
            "79/79 [==============================] - 0s 4ms/step - loss: 0.0759 - accuracy: 0.9771\n",
            "Epoch 17/20\n",
            "79/79 [==============================] - 0s 4ms/step - loss: 0.0709 - accuracy: 0.9776\n",
            "Epoch 18/20\n",
            "79/79 [==============================] - 0s 4ms/step - loss: 0.0679 - accuracy: 0.9791\n",
            "Epoch 19/20\n",
            "79/79 [==============================] - 0s 4ms/step - loss: 0.0647 - accuracy: 0.9800\n",
            "Epoch 20/20\n",
            "79/79 [==============================] - 0s 4ms/step - loss: 0.0612 - accuracy: 0.9807\n",
            "40/40 [==============================] - 0s 6ms/step - loss: 0.1176 - accuracy: 0.9657\n",
            "Epoch 1/20\n",
            "79/79 [==============================] - 1s 6ms/step - loss: 0.7602 - accuracy: 0.7923\n",
            "Epoch 2/20\n",
            "79/79 [==============================] - 0s 6ms/step - loss: 0.3394 - accuracy: 0.9020\n",
            "Epoch 3/20\n",
            "79/79 [==============================] - 0s 6ms/step - loss: 0.2673 - accuracy: 0.9222\n",
            "Epoch 4/20\n",
            "79/79 [==============================] - 0s 6ms/step - loss: 0.2205 - accuracy: 0.9348\n",
            "Epoch 5/20\n",
            "79/79 [==============================] - 0s 5ms/step - loss: 0.1909 - accuracy: 0.9450\n",
            "Epoch 6/20\n",
            "79/79 [==============================] - 0s 4ms/step - loss: 0.1687 - accuracy: 0.9508\n",
            "Epoch 7/20\n",
            "79/79 [==============================] - 0s 5ms/step - loss: 0.1502 - accuracy: 0.9557\n",
            "Epoch 8/20\n",
            "79/79 [==============================] - 0s 4ms/step - loss: 0.1376 - accuracy: 0.9585\n",
            "Epoch 9/20\n",
            "79/79 [==============================] - 0s 4ms/step - loss: 0.1243 - accuracy: 0.9628\n",
            "Epoch 10/20\n",
            "79/79 [==============================] - 0s 4ms/step - loss: 0.1138 - accuracy: 0.9660\n",
            "Epoch 11/20\n",
            "79/79 [==============================] - 0s 5ms/step - loss: 0.1032 - accuracy: 0.9690\n",
            "Epoch 12/20\n",
            "79/79 [==============================] - 0s 5ms/step - loss: 0.0962 - accuracy: 0.9702\n",
            "Epoch 13/20\n",
            "79/79 [==============================] - 0s 4ms/step - loss: 0.0906 - accuracy: 0.9717\n",
            "Epoch 14/20\n",
            "79/79 [==============================] - 0s 4ms/step - loss: 0.0852 - accuracy: 0.9741\n",
            "Epoch 15/20\n",
            "79/79 [==============================] - 0s 5ms/step - loss: 0.0807 - accuracy: 0.9751\n",
            "Epoch 16/20\n",
            "79/79 [==============================] - 0s 5ms/step - loss: 0.0760 - accuracy: 0.9770\n",
            "Epoch 17/20\n",
            "79/79 [==============================] - 0s 4ms/step - loss: 0.0716 - accuracy: 0.9782\n",
            "Epoch 18/20\n",
            "79/79 [==============================] - 0s 5ms/step - loss: 0.0675 - accuracy: 0.9785\n",
            "Epoch 19/20\n",
            "79/79 [==============================] - 0s 5ms/step - loss: 0.0657 - accuracy: 0.9798\n",
            "Epoch 20/20\n",
            "79/79 [==============================] - 0s 4ms/step - loss: 0.0616 - accuracy: 0.9807\n",
            "40/40 [==============================] - 0s 4ms/step - loss: 0.1112 - accuracy: 0.9678\n",
            "Epoch 1/20\n",
            "79/79 [==============================] - 1s 6ms/step - loss: 1.2794 - accuracy: 0.6517\n",
            "Epoch 2/20\n",
            "79/79 [==============================] - 0s 6ms/step - loss: 0.5000 - accuracy: 0.8518\n",
            "Epoch 3/20\n",
            "79/79 [==============================] - 0s 5ms/step - loss: 0.3813 - accuracy: 0.8880\n",
            "Epoch 4/20\n",
            "79/79 [==============================] - 0s 6ms/step - loss: 0.3233 - accuracy: 0.9043\n",
            "Epoch 5/20\n",
            "79/79 [==============================] - 0s 5ms/step - loss: 0.2815 - accuracy: 0.9188\n",
            "Epoch 6/20\n",
            "79/79 [==============================] - 0s 6ms/step - loss: 0.2440 - accuracy: 0.9277\n",
            "Epoch 7/20\n",
            "79/79 [==============================] - 0s 5ms/step - loss: 0.2153 - accuracy: 0.9357\n",
            "Epoch 8/20\n",
            "79/79 [==============================] - 0s 6ms/step - loss: 0.1930 - accuracy: 0.9425\n",
            "Epoch 9/20\n",
            "79/79 [==============================] - 0s 5ms/step - loss: 0.1753 - accuracy: 0.9479\n",
            "Epoch 10/20\n",
            "79/79 [==============================] - 0s 6ms/step - loss: 0.1605 - accuracy: 0.9522\n",
            "Epoch 11/20\n",
            "79/79 [==============================] - 0s 6ms/step - loss: 0.1461 - accuracy: 0.9569\n",
            "Epoch 12/20\n",
            "79/79 [==============================] - 0s 5ms/step - loss: 0.1363 - accuracy: 0.9585\n",
            "Epoch 13/20\n",
            "79/79 [==============================] - 0s 5ms/step - loss: 0.1270 - accuracy: 0.9628\n",
            "Epoch 14/20\n",
            "79/79 [==============================] - 0s 4ms/step - loss: 0.1177 - accuracy: 0.9650\n",
            "Epoch 15/20\n",
            "79/79 [==============================] - 0s 4ms/step - loss: 0.1117 - accuracy: 0.9660\n",
            "Epoch 16/20\n",
            "79/79 [==============================] - 0s 5ms/step - loss: 0.1061 - accuracy: 0.9677\n",
            "Epoch 17/20\n",
            "79/79 [==============================] - 0s 4ms/step - loss: 0.1002 - accuracy: 0.9691\n",
            "Epoch 18/20\n",
            "79/79 [==============================] - 0s 5ms/step - loss: 0.0953 - accuracy: 0.9706\n",
            "Epoch 19/20\n",
            "79/79 [==============================] - 0s 4ms/step - loss: 0.0912 - accuracy: 0.9725\n",
            "Epoch 20/20\n",
            "79/79 [==============================] - 0s 4ms/step - loss: 0.0859 - accuracy: 0.9740\n",
            "40/40 [==============================] - 0s 4ms/step - loss: 0.1101 - accuracy: 0.9674\n",
            "Epoch 1/20\n",
            "79/79 [==============================] - 1s 4ms/step - loss: 1.2645 - accuracy: 0.6506\n",
            "Epoch 2/20\n",
            "79/79 [==============================] - 0s 4ms/step - loss: 0.5000 - accuracy: 0.8522\n",
            "Epoch 3/20\n",
            "79/79 [==============================] - 0s 4ms/step - loss: 0.3800 - accuracy: 0.8890\n",
            "Epoch 4/20\n",
            "79/79 [==============================] - 0s 4ms/step - loss: 0.3241 - accuracy: 0.9061\n",
            "Epoch 5/20\n",
            "79/79 [==============================] - 0s 4ms/step - loss: 0.2834 - accuracy: 0.9175\n",
            "Epoch 6/20\n",
            "79/79 [==============================] - 0s 5ms/step - loss: 0.2494 - accuracy: 0.9272\n",
            "Epoch 7/20\n",
            "79/79 [==============================] - 0s 5ms/step - loss: 0.2211 - accuracy: 0.9357\n",
            "Epoch 8/20\n",
            "79/79 [==============================] - 0s 4ms/step - loss: 0.1963 - accuracy: 0.9424\n",
            "Epoch 9/20\n",
            "79/79 [==============================] - 0s 5ms/step - loss: 0.1769 - accuracy: 0.9478\n",
            "Epoch 10/20\n",
            "79/79 [==============================] - 0s 6ms/step - loss: 0.1607 - accuracy: 0.9532\n",
            "Epoch 11/20\n",
            "79/79 [==============================] - 0s 5ms/step - loss: 0.1461 - accuracy: 0.9564\n",
            "Epoch 12/20\n",
            "79/79 [==============================] - 0s 5ms/step - loss: 0.1356 - accuracy: 0.9596\n",
            "Epoch 13/20\n",
            "79/79 [==============================] - 0s 6ms/step - loss: 0.1253 - accuracy: 0.9620\n",
            "Epoch 14/20\n",
            "79/79 [==============================] - 1s 6ms/step - loss: 0.1177 - accuracy: 0.9638\n",
            "Epoch 15/20\n",
            "79/79 [==============================] - 0s 6ms/step - loss: 0.1080 - accuracy: 0.9668\n",
            "Epoch 16/20\n",
            "79/79 [==============================] - 0s 6ms/step - loss: 0.1023 - accuracy: 0.9685\n",
            "Epoch 17/20\n",
            "79/79 [==============================] - 0s 6ms/step - loss: 0.0953 - accuracy: 0.9697\n",
            "Epoch 18/20\n",
            "79/79 [==============================] - 0s 6ms/step - loss: 0.0892 - accuracy: 0.9716\n",
            "Epoch 19/20\n",
            "79/79 [==============================] - 0s 5ms/step - loss: 0.0863 - accuracy: 0.9736\n",
            "Epoch 20/20\n",
            "79/79 [==============================] - 0s 4ms/step - loss: 0.0821 - accuracy: 0.9744\n",
            "40/40 [==============================] - 0s 4ms/step - loss: 0.1229 - accuracy: 0.9632\n",
            "Epoch 1/20\n",
            "79/79 [==============================] - 1s 5ms/step - loss: 1.2635 - accuracy: 0.6775\n",
            "Epoch 2/20\n",
            "79/79 [==============================] - 0s 5ms/step - loss: 0.5009 - accuracy: 0.8522\n",
            "Epoch 3/20\n",
            "79/79 [==============================] - 0s 5ms/step - loss: 0.3922 - accuracy: 0.8852\n",
            "Epoch 4/20\n",
            "79/79 [==============================] - 0s 4ms/step - loss: 0.3304 - accuracy: 0.9033\n",
            "Epoch 5/20\n",
            "79/79 [==============================] - 0s 5ms/step - loss: 0.2833 - accuracy: 0.9174\n",
            "Epoch 6/20\n",
            "79/79 [==============================] - 0s 5ms/step - loss: 0.2445 - accuracy: 0.9272\n",
            "Epoch 7/20\n",
            "79/79 [==============================] - 0s 5ms/step - loss: 0.2130 - accuracy: 0.9374\n",
            "Epoch 8/20\n",
            "79/79 [==============================] - 0s 5ms/step - loss: 0.1897 - accuracy: 0.9440\n",
            "Epoch 9/20\n",
            "79/79 [==============================] - 0s 4ms/step - loss: 0.1708 - accuracy: 0.9505\n",
            "Epoch 10/20\n",
            "79/79 [==============================] - 0s 5ms/step - loss: 0.1564 - accuracy: 0.9541\n",
            "Epoch 11/20\n",
            "79/79 [==============================] - 0s 5ms/step - loss: 0.1441 - accuracy: 0.9562\n",
            "Epoch 12/20\n",
            "79/79 [==============================] - 0s 5ms/step - loss: 0.1338 - accuracy: 0.9609\n",
            "Epoch 13/20\n",
            "79/79 [==============================] - 0s 4ms/step - loss: 0.1232 - accuracy: 0.9636\n",
            "Epoch 14/20\n",
            "79/79 [==============================] - 0s 5ms/step - loss: 0.1171 - accuracy: 0.9646\n",
            "Epoch 15/20\n",
            "79/79 [==============================] - 0s 5ms/step - loss: 0.1107 - accuracy: 0.9668\n",
            "Epoch 16/20\n",
            "79/79 [==============================] - 0s 4ms/step - loss: 0.1019 - accuracy: 0.9696\n",
            "Epoch 17/20\n",
            "79/79 [==============================] - 0s 5ms/step - loss: 0.0958 - accuracy: 0.9713\n",
            "Epoch 18/20\n",
            "79/79 [==============================] - 0s 4ms/step - loss: 0.0929 - accuracy: 0.9722\n",
            "Epoch 19/20\n",
            "79/79 [==============================] - 0s 5ms/step - loss: 0.0894 - accuracy: 0.9726\n",
            "Epoch 20/20\n",
            "79/79 [==============================] - 0s 5ms/step - loss: 0.0841 - accuracy: 0.9741\n",
            "40/40 [==============================] - 0s 5ms/step - loss: 0.1143 - accuracy: 0.9663\n",
            "Epoch 1/20\n",
            "469/469 [==============================] - 3s 5ms/step - loss: 0.4159 - accuracy: 0.8806\n",
            "Epoch 2/20\n",
            "469/469 [==============================] - 2s 4ms/step - loss: 0.1902 - accuracy: 0.9436\n",
            "Epoch 3/20\n",
            "469/469 [==============================] - 2s 4ms/step - loss: 0.1465 - accuracy: 0.9559\n",
            "Epoch 4/20\n",
            "469/469 [==============================] - 2s 4ms/step - loss: 0.1215 - accuracy: 0.9625\n",
            "Epoch 5/20\n",
            "469/469 [==============================] - 2s 4ms/step - loss: 0.1062 - accuracy: 0.9687\n",
            "Epoch 6/20\n",
            "469/469 [==============================] - 2s 4ms/step - loss: 0.0941 - accuracy: 0.9706\n",
            "Epoch 7/20\n",
            "469/469 [==============================] - 2s 5ms/step - loss: 0.0857 - accuracy: 0.9737\n",
            "Epoch 8/20\n",
            "469/469 [==============================] - 3s 5ms/step - loss: 0.0765 - accuracy: 0.9759\n",
            "Epoch 9/20\n",
            "469/469 [==============================] - 2s 4ms/step - loss: 0.0721 - accuracy: 0.9773\n",
            "Epoch 10/20\n",
            "469/469 [==============================] - 2s 4ms/step - loss: 0.0672 - accuracy: 0.9785\n",
            "Epoch 11/20\n",
            "469/469 [==============================] - 2s 4ms/step - loss: 0.0628 - accuracy: 0.9799\n",
            "Epoch 12/20\n",
            "469/469 [==============================] - 2s 4ms/step - loss: 0.0589 - accuracy: 0.9808\n",
            "Epoch 13/20\n",
            "469/469 [==============================] - 2s 4ms/step - loss: 0.0572 - accuracy: 0.9818\n",
            "Epoch 14/20\n",
            "469/469 [==============================] - 2s 5ms/step - loss: 0.0559 - accuracy: 0.9821\n",
            "Epoch 15/20\n",
            "469/469 [==============================] - 2s 5ms/step - loss: 0.0521 - accuracy: 0.9830\n",
            "Epoch 16/20\n",
            "469/469 [==============================] - 2s 4ms/step - loss: 0.0485 - accuracy: 0.9849\n",
            "Epoch 17/20\n",
            "469/469 [==============================] - 2s 4ms/step - loss: 0.0461 - accuracy: 0.9845\n",
            "Epoch 18/20\n",
            "469/469 [==============================] - 2s 4ms/step - loss: 0.0449 - accuracy: 0.9851\n",
            "Epoch 19/20\n",
            "469/469 [==============================] - 2s 4ms/step - loss: 0.0432 - accuracy: 0.9859\n",
            "Epoch 20/20\n",
            "469/469 [==============================] - 2s 4ms/step - loss: 0.0423 - accuracy: 0.9864\n"
          ]
        }
      ],
      "source": [
        "# %%time\n",
        "# fix random seed for reproducibility (this might work or might not work\n",
        "# depending on each library's implenentation)\n",
        "seed = 7\n",
        "numpy.random.seed(seed)\n",
        "\n",
        "# create the sklearn model for the network\n",
        "model_init_batch_epoch_CV = KerasClassifier(build_fn=create_model_2, verbose=1)\n",
        "\n",
        "# we choose the initializers that came at the top in our previous cross-validation!!\n",
        "init_mode = ['glorot_uniform', 'uniform']\n",
        "batches = [128, 512]\n",
        "epochs = [10, 20]\n",
        "\n",
        "# grid search for initializer, batch size and number of epochs\n",
        "param_grid = dict(epochs=epochs, batch_size=batches, init=init_mode)\n",
        "grid = GridSearchCV(estimator=model_init_batch_epoch_CV,\n",
        "                    param_grid=param_grid,\n",
        "                    cv=3)\n",
        "grid_result = grid.fit(x_train, y_train)"
      ]
    },
    {
      "cell_type": "code",
      "execution_count": 43,
      "metadata": {
        "colab": {
          "base_uri": "https://localhost:8080/"
        },
        "id": "mWiKWomGX1Gt",
        "outputId": "72615023-392c-4541-cd53-ec31dcd69000"
      },
      "outputs": [
        {
          "name": "stdout",
          "output_type": "stream",
          "text": [
            "Best Accuracy for 0.9719 using {'batch_size': 128, 'epochs': 20, 'init': 'glorot_uniform'}\n",
            "mean=0.9686, std=0.0005793 using {'batch_size': 128, 'epochs': 10, 'init': 'glorot_uniform'}\n",
            "mean=0.9652, std=0.001916 using {'batch_size': 128, 'epochs': 10, 'init': 'uniform'}\n",
            "mean=0.9719, std=0.001331 using {'batch_size': 128, 'epochs': 20, 'init': 'glorot_uniform'}\n",
            "mean=0.9716, std=0.002531 using {'batch_size': 128, 'epochs': 20, 'init': 'uniform'}\n",
            "mean=0.9578, std=0.002715 using {'batch_size': 512, 'epochs': 10, 'init': 'glorot_uniform'}\n",
            "mean=0.9477, std=0.001617 using {'batch_size': 512, 'epochs': 10, 'init': 'uniform'}\n",
            "mean=0.9668, std=0.000839 using {'batch_size': 512, 'epochs': 20, 'init': 'glorot_uniform'}\n",
            "mean=0.9657, std=0.001755 using {'batch_size': 512, 'epochs': 20, 'init': 'uniform'}\n"
          ]
        }
      ],
      "source": [
        "# print results\n",
        "print(f'Best Accuracy for {grid_result.best_score_:.4} using {grid_result.best_params_}')\n",
        "means = grid_result.cv_results_['mean_test_score']\n",
        "stds = grid_result.cv_results_['std_test_score']\n",
        "params = grid_result.cv_results_['params']\n",
        "for mean, stdev, param in zip(means, stds, params):\n",
        "    print(f'mean={mean:.4}, std={stdev:.4} using {param}')"
      ]
    }
  ],
  "metadata": {
    "accelerator": "GPU",
    "colab": {
      "gpuType": "T4",
      "provenance": []
    },
    "kernelspec": {
      "display_name": "Python 3",
      "name": "python3"
    },
    "language_info": {
      "codemirror_mode": {
        "name": "ipython",
        "version": 3
      },
      "file_extension": ".py",
      "mimetype": "text/x-python",
      "name": "python",
      "nbconvert_exporter": "python",
      "pygments_lexer": "ipython3",
      "version": "3.6.7"
    }
  },
  "nbformat": 4,
  "nbformat_minor": 0
}
